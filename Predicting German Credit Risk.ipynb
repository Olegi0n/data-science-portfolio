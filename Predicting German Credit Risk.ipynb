{
  "nbformat": 4,
  "nbformat_minor": 0,
  "metadata": {
    "colab": {
      "name": "Predicting German Credit Risk.ipynb",
      "provenance": [],
      "collapsed_sections": [],
      "toc_visible": true,
      "authorship_tag": "ABX9TyN/6sJbYOyHRNHgJA0janQJ"
    },
    "kernelspec": {
      "name": "python3",
      "display_name": "Python 3"
    },
    "language_info": {
      "name": "python"
    }
  },
  "cells": [
    {
      "cell_type": "markdown",
      "source": [
        "## Predicting German Credit Risk"
      ],
      "metadata": {
        "id": "qUHBikuRh6T3"
      }
    },
    {
      "cell_type": "markdown",
      "source": [
        "## Описание задачи и имеющихся данных"
      ],
      "metadata": {
        "id": "iBfoo7x1iN1R"
      }
    },
    {
      "cell_type": "markdown",
      "metadata": {
        "id": "SFdwzRE9YXYO"
      },
      "source": [
        "Задача:  \n",
        "Требуется, на основании имеющихся данных о клиентах банка, построить модель, для прогнозирования невыполнения долговых обязательств.  \n",
        "Целевая переменная: default"
      ]
    },
    {
      "cell_type": "markdown",
      "source": [
        "Метрика качества\n",
        "\n",
        "F1-score (sklearn.metrics.f1_score)\n",
        "\n",
        "Целевая метрика\n",
        "* F1 > 0.5 при Precision > 0.5 и Recall > 0.5\n",
        "* Метрика оценивается по качеству прогноза для главного класса (1 - просрочка по кредиту)"
      ],
      "metadata": {
        "id": "XiMVmhGDlNYe"
      }
    },
    {
      "cell_type": "markdown",
      "metadata": {
        "id": "OZ0NkvAXVObD"
      },
      "source": [
        "**Описание датасета:**  \n",
        "\n",
        "Unnamed: 0 - Безымянный  \n",
        "Age - Возраст  \n",
        "Sex - Пол   \n",
        "Job - Работа (0 - unskilled and non-resident, 1 - unskilled and resident, 2 - skilled, 3 - highly skilled)\t\n",
        "Housing - Жилье\t\n",
        "Saving accounts - Сберегательные счета\t\n",
        "Checking account - Расчетный счет\t\n",
        "Credit amount - Сумма кредита\t\n",
        "Duration - Продолжительность (числовое значение в месяцах)\t\n",
        "Purpose - Цель\t\n",
        "default - факт невыполнения кредитных обязательств (0 - погашен вовремя, 1 - просрочка)"
      ]
    },
    {
      "cell_type": "markdown",
      "metadata": {
        "id": "tjDdA_giTUZ7"
      },
      "source": [
        "## Подключение библиотек"
      ]
    },
    {
      "cell_type": "code",
      "metadata": {
        "id": "ESpMcu1RQ946"
      },
      "source": [
        "import pandas as pd\n",
        "import numpy as np\n",
        "import seaborn as sns\n",
        "from matplotlib import pyplot as plt\n",
        "import graphviz"
      ],
      "execution_count": 1,
      "outputs": []
    },
    {
      "cell_type": "code",
      "metadata": {
        "id": "Nknw5A4-F5uG"
      },
      "source": [
        "from sklearn.decomposition import PCA\n",
        "from sklearn.model_selection import train_test_split\n",
        "from sklearn.model_selection import GridSearchCV\n",
        "from sklearn.utils.class_weight import compute_class_weight\n",
        "from sklearn.metrics import classification_report, f1_score, precision_score, recall_score\n",
        "from sklearn.ensemble import RandomForestClassifier, RandomForestRegressor, GradientBoostingClassifier, GradientBoostingRegressor\n",
        "from sklearn import tree, metrics\n",
        "from sklearn.tree import DecisionTreeClassifier, DecisionTreeRegressor, plot_tree"
      ],
      "execution_count": 2,
      "outputs": []
    },
    {
      "cell_type": "code",
      "source": [
        "import xgboost as xgb"
      ],
      "metadata": {
        "id": "FIrf_Do2W7tP"
      },
      "execution_count": 3,
      "outputs": []
    },
    {
      "cell_type": "code",
      "metadata": {
        "colab": {
          "base_uri": "https://localhost:8080/"
        },
        "id": "FnqSW2BgKeqE",
        "outputId": "7747e948-80c9-4e06-bd81-27eb0ca45ac6"
      },
      "source": [
        "!pip3 install catboost"
      ],
      "execution_count": 4,
      "outputs": [
        {
          "output_type": "stream",
          "name": "stdout",
          "text": [
            "Collecting catboost\n",
            "  Downloading catboost-1.0.4-cp37-none-manylinux1_x86_64.whl (76.1 MB)\n",
            "\u001b[K     |████████████████████████████████| 76.1 MB 51 kB/s \n",
            "\u001b[?25hRequirement already satisfied: matplotlib in /usr/local/lib/python3.7/dist-packages (from catboost) (3.2.2)\n",
            "Requirement already satisfied: scipy in /usr/local/lib/python3.7/dist-packages (from catboost) (1.4.1)\n",
            "Requirement already satisfied: numpy>=1.16.0 in /usr/local/lib/python3.7/dist-packages (from catboost) (1.19.5)\n",
            "Requirement already satisfied: six in /usr/local/lib/python3.7/dist-packages (from catboost) (1.15.0)\n",
            "Requirement already satisfied: pandas>=0.24.0 in /usr/local/lib/python3.7/dist-packages (from catboost) (1.1.5)\n",
            "Requirement already satisfied: plotly in /usr/local/lib/python3.7/dist-packages (from catboost) (5.5.0)\n",
            "Requirement already satisfied: graphviz in /usr/local/lib/python3.7/dist-packages (from catboost) (0.10.1)\n",
            "Requirement already satisfied: python-dateutil>=2.7.3 in /usr/local/lib/python3.7/dist-packages (from pandas>=0.24.0->catboost) (2.8.2)\n",
            "Requirement already satisfied: pytz>=2017.2 in /usr/local/lib/python3.7/dist-packages (from pandas>=0.24.0->catboost) (2018.9)\n",
            "Requirement already satisfied: pyparsing!=2.0.4,!=2.1.2,!=2.1.6,>=2.0.1 in /usr/local/lib/python3.7/dist-packages (from matplotlib->catboost) (3.0.7)\n",
            "Requirement already satisfied: cycler>=0.10 in /usr/local/lib/python3.7/dist-packages (from matplotlib->catboost) (0.11.0)\n",
            "Requirement already satisfied: kiwisolver>=1.0.1 in /usr/local/lib/python3.7/dist-packages (from matplotlib->catboost) (1.3.2)\n",
            "Requirement already satisfied: tenacity>=6.2.0 in /usr/local/lib/python3.7/dist-packages (from plotly->catboost) (8.0.1)\n",
            "Installing collected packages: catboost\n",
            "Successfully installed catboost-1.0.4\n"
          ]
        }
      ]
    },
    {
      "cell_type": "code",
      "metadata": {
        "id": "Orb9J2rdKB2I"
      },
      "source": [
        "import catboost as catb"
      ],
      "execution_count": 5,
      "outputs": []
    },
    {
      "cell_type": "markdown",
      "source": [
        "Напишем функций для визуализации важности признаков и порога вероятности:"
      ],
      "metadata": {
        "id": "ZNT7EDbGis7l"
      }
    },
    {
      "cell_type": "code",
      "metadata": {
        "id": "7qGhOaNrNNxC"
      },
      "source": [
        "def show_feature_importances(feature_names, feature_importances, get_top=None):\n",
        "    feature_importances = pd.DataFrame({'feature': feature_names, 'importance': feature_importances})\n",
        "    feature_importances = feature_importances.sort_values('importance', ascending=False)\n",
        "       \n",
        "    plt.figure(figsize = (20, len(feature_importances) * 0.355))\n",
        "    \n",
        "    sns.barplot(feature_importances['importance'], feature_importances['feature'])\n",
        "    \n",
        "    plt.xlabel('Importance')\n",
        "    plt.title('Importance of features')\n",
        "    plt.show()\n",
        "    \n",
        "    if get_top is not None:\n",
        "        return feature_importances['feature'][:get_top].tolist()"
      ],
      "execution_count": 6,
      "outputs": []
    },
    {
      "cell_type": "code",
      "metadata": {
        "id": "fOpP9aEvtYPC"
      },
      "source": [
        "def show_proba_calibration_plots(y_predicted_probs, y_true_labels):\n",
        "    preds_with_true_labels = np.array(list(zip(y_predicted_probs, y_true_labels)))\n",
        "\n",
        "    thresholds = []\n",
        "    precisions = []\n",
        "    recalls = []\n",
        "    f1_scores = []\n",
        "\n",
        "    for threshold in np.linspace(0.1, 0.9, 9):\n",
        "        thresholds.append(threshold)\n",
        "        precisions.append(precision_score(y_true_labels, list(map(int, y_predicted_probs > threshold))))\n",
        "        recalls.append(recall_score(y_true_labels, list(map(int, y_predicted_probs > threshold))))\n",
        "        f1_scores.append(f1_score(y_true_labels, list(map(int, y_predicted_probs > threshold))))\n",
        "\n",
        "    scores_table = pd.DataFrame({'f1':f1_scores,\n",
        "                                 'precision':precisions,\n",
        "                                 'recall':recalls,\n",
        "                                 'probability':thresholds}).sort_values('f1', ascending=False).round(3)\n",
        "  \n",
        "    figure = plt.figure(figsize = (15, 5))\n",
        "\n",
        "    plt1 = figure.add_subplot(121)\n",
        "    plt1.plot(thresholds, precisions, label='Precision', linewidth=4)\n",
        "    plt1.plot(thresholds, recalls, label='Recall', linewidth=4)\n",
        "    plt1.plot(thresholds, f1_scores, label='F1', linewidth=4)\n",
        "    plt1.set_ylabel('Scores')\n",
        "    plt1.set_xlabel('Probability threshold')\n",
        "    plt1.set_title('Probabilities threshold calibration')\n",
        "    plt1.legend(bbox_to_anchor=(0.25, 0.25))   \n",
        "    plt1.table(cellText = scores_table.values,\n",
        "               colLabels = scores_table.columns, \n",
        "               colLoc = 'center', cellLoc = 'center', loc = 'bottom', bbox = [0, -1.3, 1, 1])\n",
        "\n",
        "    plt2 = figure.add_subplot(122)\n",
        "    plt2.hist(preds_with_true_labels[preds_with_true_labels[:, 1] == 0][:, 0], \n",
        "              label='Another class', color='royalblue', alpha=1)\n",
        "    plt2.hist(preds_with_true_labels[preds_with_true_labels[:, 1] == 1][:, 0], \n",
        "              label='Main class', color='darkcyan', alpha=0.8)\n",
        "    plt2.set_ylabel('Number of examples')\n",
        "    plt2.set_xlabel('Probabilities')\n",
        "    plt2.set_title('Probability histogram')\n",
        "    plt2.legend(bbox_to_anchor=(1, 1))\n",
        "\n",
        "    plt.show()"
      ],
      "execution_count": 7,
      "outputs": []
    },
    {
      "cell_type": "code",
      "source": [
        "import warnings\n",
        "warnings.filterwarnings('ignore')"
      ],
      "metadata": {
        "id": "li-R4stzYdJ_"
      },
      "execution_count": 49,
      "outputs": []
    },
    {
      "cell_type": "markdown",
      "metadata": {
        "id": "iMXhe4kDTTpW"
      },
      "source": [
        "## Загрузка датасета c моего Google Диска"
      ]
    },
    {
      "cell_type": "code",
      "metadata": {
        "colab": {
          "base_uri": "https://localhost:8080/"
        },
        "id": "L29z6f0NTwHD",
        "outputId": "6bb98fda-cc02-4ed2-d9d4-207b3bbb858d"
      },
      "source": [
        "!gdown --id 1-A9Cjj8R7oIstJ7_C_gkDKdOI1yZvdUr"
      ],
      "execution_count": 8,
      "outputs": [
        {
          "output_type": "stream",
          "name": "stdout",
          "text": [
            "Downloading...\n",
            "From: https://drive.google.com/uc?id=1-A9Cjj8R7oIstJ7_C_gkDKdOI1yZvdUr\n",
            "To: /content/german-credit.csv\n",
            "\r  0% 0.00/50.5k [00:00<?, ?B/s]\r100% 50.5k/50.5k [00:00<00:00, 48.8MB/s]\n"
          ]
        }
      ]
    },
    {
      "cell_type": "code",
      "metadata": {
        "id": "-3LZxImbUQDj"
      },
      "source": [
        "df = pd.read_csv('/content/german-credit.csv')"
      ],
      "execution_count": 9,
      "outputs": []
    },
    {
      "cell_type": "markdown",
      "metadata": {
        "id": "RLFVVQKuZcIi"
      },
      "source": [
        "## Анализ данных"
      ]
    },
    {
      "cell_type": "code",
      "metadata": {
        "colab": {
          "base_uri": "https://localhost:8080/",
          "height": 206
        },
        "id": "GAsxS92kUyuo",
        "outputId": "ee14a637-77b8-43e5-9450-42a2a110c472"
      },
      "source": [
        "df.head()"
      ],
      "execution_count": 10,
      "outputs": [
        {
          "output_type": "execute_result",
          "data": {
            "text/html": [
              "\n",
              "  <div id=\"df-75f336f6-e518-4bf1-870a-1fd8220fe024\">\n",
              "    <div class=\"colab-df-container\">\n",
              "      <div>\n",
              "<style scoped>\n",
              "    .dataframe tbody tr th:only-of-type {\n",
              "        vertical-align: middle;\n",
              "    }\n",
              "\n",
              "    .dataframe tbody tr th {\n",
              "        vertical-align: top;\n",
              "    }\n",
              "\n",
              "    .dataframe thead th {\n",
              "        text-align: right;\n",
              "    }\n",
              "</style>\n",
              "<table border=\"1\" class=\"dataframe\">\n",
              "  <thead>\n",
              "    <tr style=\"text-align: right;\">\n",
              "      <th></th>\n",
              "      <th>Unnamed: 0</th>\n",
              "      <th>Age</th>\n",
              "      <th>Sex</th>\n",
              "      <th>Job</th>\n",
              "      <th>Housing</th>\n",
              "      <th>Saving accounts</th>\n",
              "      <th>Checking account</th>\n",
              "      <th>Credit amount</th>\n",
              "      <th>Duration</th>\n",
              "      <th>Purpose</th>\n",
              "      <th>default</th>\n",
              "    </tr>\n",
              "  </thead>\n",
              "  <tbody>\n",
              "    <tr>\n",
              "      <th>0</th>\n",
              "      <td>0</td>\n",
              "      <td>67</td>\n",
              "      <td>male</td>\n",
              "      <td>2</td>\n",
              "      <td>own</td>\n",
              "      <td>NaN</td>\n",
              "      <td>little</td>\n",
              "      <td>1169</td>\n",
              "      <td>6</td>\n",
              "      <td>radio/TV</td>\n",
              "      <td>0</td>\n",
              "    </tr>\n",
              "    <tr>\n",
              "      <th>1</th>\n",
              "      <td>1</td>\n",
              "      <td>22</td>\n",
              "      <td>female</td>\n",
              "      <td>2</td>\n",
              "      <td>own</td>\n",
              "      <td>little</td>\n",
              "      <td>moderate</td>\n",
              "      <td>5951</td>\n",
              "      <td>48</td>\n",
              "      <td>radio/TV</td>\n",
              "      <td>1</td>\n",
              "    </tr>\n",
              "    <tr>\n",
              "      <th>2</th>\n",
              "      <td>2</td>\n",
              "      <td>49</td>\n",
              "      <td>male</td>\n",
              "      <td>1</td>\n",
              "      <td>own</td>\n",
              "      <td>little</td>\n",
              "      <td>NaN</td>\n",
              "      <td>2096</td>\n",
              "      <td>12</td>\n",
              "      <td>education</td>\n",
              "      <td>0</td>\n",
              "    </tr>\n",
              "    <tr>\n",
              "      <th>3</th>\n",
              "      <td>3</td>\n",
              "      <td>45</td>\n",
              "      <td>male</td>\n",
              "      <td>2</td>\n",
              "      <td>free</td>\n",
              "      <td>little</td>\n",
              "      <td>little</td>\n",
              "      <td>7882</td>\n",
              "      <td>42</td>\n",
              "      <td>furniture/equipment</td>\n",
              "      <td>0</td>\n",
              "    </tr>\n",
              "    <tr>\n",
              "      <th>4</th>\n",
              "      <td>4</td>\n",
              "      <td>53</td>\n",
              "      <td>male</td>\n",
              "      <td>2</td>\n",
              "      <td>free</td>\n",
              "      <td>little</td>\n",
              "      <td>little</td>\n",
              "      <td>4870</td>\n",
              "      <td>24</td>\n",
              "      <td>car</td>\n",
              "      <td>1</td>\n",
              "    </tr>\n",
              "  </tbody>\n",
              "</table>\n",
              "</div>\n",
              "      <button class=\"colab-df-convert\" onclick=\"convertToInteractive('df-75f336f6-e518-4bf1-870a-1fd8220fe024')\"\n",
              "              title=\"Convert this dataframe to an interactive table.\"\n",
              "              style=\"display:none;\">\n",
              "        \n",
              "  <svg xmlns=\"http://www.w3.org/2000/svg\" height=\"24px\"viewBox=\"0 0 24 24\"\n",
              "       width=\"24px\">\n",
              "    <path d=\"M0 0h24v24H0V0z\" fill=\"none\"/>\n",
              "    <path d=\"M18.56 5.44l.94 2.06.94-2.06 2.06-.94-2.06-.94-.94-2.06-.94 2.06-2.06.94zm-11 1L8.5 8.5l.94-2.06 2.06-.94-2.06-.94L8.5 2.5l-.94 2.06-2.06.94zm10 10l.94 2.06.94-2.06 2.06-.94-2.06-.94-.94-2.06-.94 2.06-2.06.94z\"/><path d=\"M17.41 7.96l-1.37-1.37c-.4-.4-.92-.59-1.43-.59-.52 0-1.04.2-1.43.59L10.3 9.45l-7.72 7.72c-.78.78-.78 2.05 0 2.83L4 21.41c.39.39.9.59 1.41.59.51 0 1.02-.2 1.41-.59l7.78-7.78 2.81-2.81c.8-.78.8-2.07 0-2.86zM5.41 20L4 18.59l7.72-7.72 1.47 1.35L5.41 20z\"/>\n",
              "  </svg>\n",
              "      </button>\n",
              "      \n",
              "  <style>\n",
              "    .colab-df-container {\n",
              "      display:flex;\n",
              "      flex-wrap:wrap;\n",
              "      gap: 12px;\n",
              "    }\n",
              "\n",
              "    .colab-df-convert {\n",
              "      background-color: #E8F0FE;\n",
              "      border: none;\n",
              "      border-radius: 50%;\n",
              "      cursor: pointer;\n",
              "      display: none;\n",
              "      fill: #1967D2;\n",
              "      height: 32px;\n",
              "      padding: 0 0 0 0;\n",
              "      width: 32px;\n",
              "    }\n",
              "\n",
              "    .colab-df-convert:hover {\n",
              "      background-color: #E2EBFA;\n",
              "      box-shadow: 0px 1px 2px rgba(60, 64, 67, 0.3), 0px 1px 3px 1px rgba(60, 64, 67, 0.15);\n",
              "      fill: #174EA6;\n",
              "    }\n",
              "\n",
              "    [theme=dark] .colab-df-convert {\n",
              "      background-color: #3B4455;\n",
              "      fill: #D2E3FC;\n",
              "    }\n",
              "\n",
              "    [theme=dark] .colab-df-convert:hover {\n",
              "      background-color: #434B5C;\n",
              "      box-shadow: 0px 1px 3px 1px rgba(0, 0, 0, 0.15);\n",
              "      filter: drop-shadow(0px 1px 2px rgba(0, 0, 0, 0.3));\n",
              "      fill: #FFFFFF;\n",
              "    }\n",
              "  </style>\n",
              "\n",
              "      <script>\n",
              "        const buttonEl =\n",
              "          document.querySelector('#df-75f336f6-e518-4bf1-870a-1fd8220fe024 button.colab-df-convert');\n",
              "        buttonEl.style.display =\n",
              "          google.colab.kernel.accessAllowed ? 'block' : 'none';\n",
              "\n",
              "        async function convertToInteractive(key) {\n",
              "          const element = document.querySelector('#df-75f336f6-e518-4bf1-870a-1fd8220fe024');\n",
              "          const dataTable =\n",
              "            await google.colab.kernel.invokeFunction('convertToInteractive',\n",
              "                                                     [key], {});\n",
              "          if (!dataTable) return;\n",
              "\n",
              "          const docLinkHtml = 'Like what you see? Visit the ' +\n",
              "            '<a target=\"_blank\" href=https://colab.research.google.com/notebooks/data_table.ipynb>data table notebook</a>'\n",
              "            + ' to learn more about interactive tables.';\n",
              "          element.innerHTML = '';\n",
              "          dataTable['output_type'] = 'display_data';\n",
              "          await google.colab.output.renderOutput(dataTable, element);\n",
              "          const docLink = document.createElement('div');\n",
              "          docLink.innerHTML = docLinkHtml;\n",
              "          element.appendChild(docLink);\n",
              "        }\n",
              "      </script>\n",
              "    </div>\n",
              "  </div>\n",
              "  "
            ],
            "text/plain": [
              "   Unnamed: 0  Age     Sex  ...  Duration              Purpose default\n",
              "0           0   67    male  ...         6             radio/TV       0\n",
              "1           1   22  female  ...        48             radio/TV       1\n",
              "2           2   49    male  ...        12            education       0\n",
              "3           3   45    male  ...        42  furniture/equipment       0\n",
              "4           4   53    male  ...        24                  car       1\n",
              "\n",
              "[5 rows x 11 columns]"
            ]
          },
          "metadata": {},
          "execution_count": 10
        }
      ]
    },
    {
      "cell_type": "markdown",
      "metadata": {
        "id": "Xze5nmaJZqAC"
      },
      "source": [
        "Видим следующее: \n",
        "1. Столбец \"Unnamed: 0\" содердит сквозную нумерацию, то есть не содержит никаких значимых данных.\n",
        "2. Наименование столбцов выполнено с большой буквы и имеет пробелы.\n",
        "3. Значения в столбце \"Job\" отображены в виде номинальных переменных."
      ]
    },
    {
      "cell_type": "code",
      "metadata": {
        "colab": {
          "base_uri": "https://localhost:8080/"
        },
        "id": "uaLpcDLHVZCp",
        "outputId": "63e5d8e3-faa1-4216-f908-016a091e76a6"
      },
      "source": [
        "df.dtypes"
      ],
      "execution_count": 11,
      "outputs": [
        {
          "output_type": "execute_result",
          "data": {
            "text/plain": [
              "Unnamed: 0           int64\n",
              "Age                  int64\n",
              "Sex                 object\n",
              "Job                  int64\n",
              "Housing             object\n",
              "Saving accounts     object\n",
              "Checking account    object\n",
              "Credit amount        int64\n",
              "Duration             int64\n",
              "Purpose             object\n",
              "default              int64\n",
              "dtype: object"
            ]
          },
          "metadata": {},
          "execution_count": 11
        }
      ]
    },
    {
      "cell_type": "markdown",
      "metadata": {
        "id": "LarupxG_slEQ"
      },
      "source": [
        "В каждом столбце только один тип данных, приведение типов не требуется"
      ]
    },
    {
      "cell_type": "code",
      "metadata": {
        "colab": {
          "base_uri": "https://localhost:8080/"
        },
        "id": "JybDvavgsWhj",
        "outputId": "1eee0562-3fa5-46ef-971d-daba110fabcd"
      },
      "source": [
        "df.isna().mean()"
      ],
      "execution_count": 12,
      "outputs": [
        {
          "output_type": "execute_result",
          "data": {
            "text/plain": [
              "Unnamed: 0          0.000\n",
              "Age                 0.000\n",
              "Sex                 0.000\n",
              "Job                 0.000\n",
              "Housing             0.000\n",
              "Saving accounts     0.183\n",
              "Checking account    0.394\n",
              "Credit amount       0.000\n",
              "Duration            0.000\n",
              "Purpose             0.000\n",
              "default             0.000\n",
              "dtype: float64"
            ]
          },
          "metadata": {},
          "execution_count": 12
        }
      ]
    },
    {
      "cell_type": "markdown",
      "metadata": {
        "id": "p9kFQJQVtJhU"
      },
      "source": [
        "Имеем пропуски в двух столбцах, при этом в столбце \"Checking account\" отсутсвует почти 40% данных"
      ]
    },
    {
      "cell_type": "code",
      "metadata": {
        "colab": {
          "base_uri": "https://localhost:8080/"
        },
        "id": "wcOO708rv8rz",
        "outputId": "dadd635b-27ab-4549-d0ed-0212a19be082"
      },
      "source": [
        "df.nunique().sort_values()"
      ],
      "execution_count": 13,
      "outputs": [
        {
          "output_type": "execute_result",
          "data": {
            "text/plain": [
              "Sex                    2\n",
              "default                2\n",
              "Housing                3\n",
              "Checking account       3\n",
              "Job                    4\n",
              "Saving accounts        4\n",
              "Purpose                8\n",
              "Duration              33\n",
              "Age                   53\n",
              "Credit amount        921\n",
              "Unnamed: 0          1000\n",
              "dtype: int64"
            ]
          },
          "metadata": {},
          "execution_count": 13
        }
      ]
    },
    {
      "cell_type": "markdown",
      "metadata": {
        "id": "IweV4Sa4xLUm"
      },
      "source": [
        "Видим, что неприрывными являются значения только в трех столбцах (не считая Unnamed: 0)."
      ]
    },
    {
      "cell_type": "markdown",
      "metadata": {
        "id": "G467ZVekt_4a"
      },
      "source": [
        "## Предобработка данных"
      ]
    },
    {
      "cell_type": "markdown",
      "metadata": {
        "id": "8CkwqW0FvVL3"
      },
      "source": [
        "### Удаление столбца \"Unnamed: 0\" и переименование остальных столбцов"
      ]
    },
    {
      "cell_type": "code",
      "metadata": {
        "id": "i76tatnFtCUX"
      },
      "source": [
        "df.drop('Unnamed: 0', axis=1, inplace=True)"
      ],
      "execution_count": 14,
      "outputs": []
    },
    {
      "cell_type": "code",
      "metadata": {
        "id": "xZW5ZaZQu69y"
      },
      "source": [
        "df.columns = df.columns.str.replace(' ','_').str.lower()"
      ],
      "execution_count": 15,
      "outputs": []
    },
    {
      "cell_type": "code",
      "metadata": {
        "colab": {
          "base_uri": "https://localhost:8080/",
          "height": 206
        },
        "id": "6rcL98iwvKPx",
        "outputId": "404d8135-a4f4-401f-c96a-459a0b3d122f"
      },
      "source": [
        "df.head()"
      ],
      "execution_count": 16,
      "outputs": [
        {
          "output_type": "execute_result",
          "data": {
            "text/html": [
              "\n",
              "  <div id=\"df-3bb584ab-a256-4c9d-af8e-5fc973c314cd\">\n",
              "    <div class=\"colab-df-container\">\n",
              "      <div>\n",
              "<style scoped>\n",
              "    .dataframe tbody tr th:only-of-type {\n",
              "        vertical-align: middle;\n",
              "    }\n",
              "\n",
              "    .dataframe tbody tr th {\n",
              "        vertical-align: top;\n",
              "    }\n",
              "\n",
              "    .dataframe thead th {\n",
              "        text-align: right;\n",
              "    }\n",
              "</style>\n",
              "<table border=\"1\" class=\"dataframe\">\n",
              "  <thead>\n",
              "    <tr style=\"text-align: right;\">\n",
              "      <th></th>\n",
              "      <th>age</th>\n",
              "      <th>sex</th>\n",
              "      <th>job</th>\n",
              "      <th>housing</th>\n",
              "      <th>saving_accounts</th>\n",
              "      <th>checking_account</th>\n",
              "      <th>credit_amount</th>\n",
              "      <th>duration</th>\n",
              "      <th>purpose</th>\n",
              "      <th>default</th>\n",
              "    </tr>\n",
              "  </thead>\n",
              "  <tbody>\n",
              "    <tr>\n",
              "      <th>0</th>\n",
              "      <td>67</td>\n",
              "      <td>male</td>\n",
              "      <td>2</td>\n",
              "      <td>own</td>\n",
              "      <td>NaN</td>\n",
              "      <td>little</td>\n",
              "      <td>1169</td>\n",
              "      <td>6</td>\n",
              "      <td>radio/TV</td>\n",
              "      <td>0</td>\n",
              "    </tr>\n",
              "    <tr>\n",
              "      <th>1</th>\n",
              "      <td>22</td>\n",
              "      <td>female</td>\n",
              "      <td>2</td>\n",
              "      <td>own</td>\n",
              "      <td>little</td>\n",
              "      <td>moderate</td>\n",
              "      <td>5951</td>\n",
              "      <td>48</td>\n",
              "      <td>radio/TV</td>\n",
              "      <td>1</td>\n",
              "    </tr>\n",
              "    <tr>\n",
              "      <th>2</th>\n",
              "      <td>49</td>\n",
              "      <td>male</td>\n",
              "      <td>1</td>\n",
              "      <td>own</td>\n",
              "      <td>little</td>\n",
              "      <td>NaN</td>\n",
              "      <td>2096</td>\n",
              "      <td>12</td>\n",
              "      <td>education</td>\n",
              "      <td>0</td>\n",
              "    </tr>\n",
              "    <tr>\n",
              "      <th>3</th>\n",
              "      <td>45</td>\n",
              "      <td>male</td>\n",
              "      <td>2</td>\n",
              "      <td>free</td>\n",
              "      <td>little</td>\n",
              "      <td>little</td>\n",
              "      <td>7882</td>\n",
              "      <td>42</td>\n",
              "      <td>furniture/equipment</td>\n",
              "      <td>0</td>\n",
              "    </tr>\n",
              "    <tr>\n",
              "      <th>4</th>\n",
              "      <td>53</td>\n",
              "      <td>male</td>\n",
              "      <td>2</td>\n",
              "      <td>free</td>\n",
              "      <td>little</td>\n",
              "      <td>little</td>\n",
              "      <td>4870</td>\n",
              "      <td>24</td>\n",
              "      <td>car</td>\n",
              "      <td>1</td>\n",
              "    </tr>\n",
              "  </tbody>\n",
              "</table>\n",
              "</div>\n",
              "      <button class=\"colab-df-convert\" onclick=\"convertToInteractive('df-3bb584ab-a256-4c9d-af8e-5fc973c314cd')\"\n",
              "              title=\"Convert this dataframe to an interactive table.\"\n",
              "              style=\"display:none;\">\n",
              "        \n",
              "  <svg xmlns=\"http://www.w3.org/2000/svg\" height=\"24px\"viewBox=\"0 0 24 24\"\n",
              "       width=\"24px\">\n",
              "    <path d=\"M0 0h24v24H0V0z\" fill=\"none\"/>\n",
              "    <path d=\"M18.56 5.44l.94 2.06.94-2.06 2.06-.94-2.06-.94-.94-2.06-.94 2.06-2.06.94zm-11 1L8.5 8.5l.94-2.06 2.06-.94-2.06-.94L8.5 2.5l-.94 2.06-2.06.94zm10 10l.94 2.06.94-2.06 2.06-.94-2.06-.94-.94-2.06-.94 2.06-2.06.94z\"/><path d=\"M17.41 7.96l-1.37-1.37c-.4-.4-.92-.59-1.43-.59-.52 0-1.04.2-1.43.59L10.3 9.45l-7.72 7.72c-.78.78-.78 2.05 0 2.83L4 21.41c.39.39.9.59 1.41.59.51 0 1.02-.2 1.41-.59l7.78-7.78 2.81-2.81c.8-.78.8-2.07 0-2.86zM5.41 20L4 18.59l7.72-7.72 1.47 1.35L5.41 20z\"/>\n",
              "  </svg>\n",
              "      </button>\n",
              "      \n",
              "  <style>\n",
              "    .colab-df-container {\n",
              "      display:flex;\n",
              "      flex-wrap:wrap;\n",
              "      gap: 12px;\n",
              "    }\n",
              "\n",
              "    .colab-df-convert {\n",
              "      background-color: #E8F0FE;\n",
              "      border: none;\n",
              "      border-radius: 50%;\n",
              "      cursor: pointer;\n",
              "      display: none;\n",
              "      fill: #1967D2;\n",
              "      height: 32px;\n",
              "      padding: 0 0 0 0;\n",
              "      width: 32px;\n",
              "    }\n",
              "\n",
              "    .colab-df-convert:hover {\n",
              "      background-color: #E2EBFA;\n",
              "      box-shadow: 0px 1px 2px rgba(60, 64, 67, 0.3), 0px 1px 3px 1px rgba(60, 64, 67, 0.15);\n",
              "      fill: #174EA6;\n",
              "    }\n",
              "\n",
              "    [theme=dark] .colab-df-convert {\n",
              "      background-color: #3B4455;\n",
              "      fill: #D2E3FC;\n",
              "    }\n",
              "\n",
              "    [theme=dark] .colab-df-convert:hover {\n",
              "      background-color: #434B5C;\n",
              "      box-shadow: 0px 1px 3px 1px rgba(0, 0, 0, 0.15);\n",
              "      filter: drop-shadow(0px 1px 2px rgba(0, 0, 0, 0.3));\n",
              "      fill: #FFFFFF;\n",
              "    }\n",
              "  </style>\n",
              "\n",
              "      <script>\n",
              "        const buttonEl =\n",
              "          document.querySelector('#df-3bb584ab-a256-4c9d-af8e-5fc973c314cd button.colab-df-convert');\n",
              "        buttonEl.style.display =\n",
              "          google.colab.kernel.accessAllowed ? 'block' : 'none';\n",
              "\n",
              "        async function convertToInteractive(key) {\n",
              "          const element = document.querySelector('#df-3bb584ab-a256-4c9d-af8e-5fc973c314cd');\n",
              "          const dataTable =\n",
              "            await google.colab.kernel.invokeFunction('convertToInteractive',\n",
              "                                                     [key], {});\n",
              "          if (!dataTable) return;\n",
              "\n",
              "          const docLinkHtml = 'Like what you see? Visit the ' +\n",
              "            '<a target=\"_blank\" href=https://colab.research.google.com/notebooks/data_table.ipynb>data table notebook</a>'\n",
              "            + ' to learn more about interactive tables.';\n",
              "          element.innerHTML = '';\n",
              "          dataTable['output_type'] = 'display_data';\n",
              "          await google.colab.output.renderOutput(dataTable, element);\n",
              "          const docLink = document.createElement('div');\n",
              "          docLink.innerHTML = docLinkHtml;\n",
              "          element.appendChild(docLink);\n",
              "        }\n",
              "      </script>\n",
              "    </div>\n",
              "  </div>\n",
              "  "
            ],
            "text/plain": [
              "   age     sex  job  ... duration              purpose default\n",
              "0   67    male    2  ...        6             radio/TV       0\n",
              "1   22  female    2  ...       48             radio/TV       1\n",
              "2   49    male    1  ...       12            education       0\n",
              "3   45    male    2  ...       42  furniture/equipment       0\n",
              "4   53    male    2  ...       24                  car       1\n",
              "\n",
              "[5 rows x 10 columns]"
            ]
          },
          "metadata": {},
          "execution_count": 16
        }
      ]
    },
    {
      "cell_type": "markdown",
      "metadata": {
        "id": "sZDfJwqovu2M"
      },
      "source": [
        "### Целевая переменная"
      ]
    },
    {
      "cell_type": "code",
      "metadata": {
        "colab": {
          "base_uri": "https://localhost:8080/"
        },
        "id": "0EK4SmTvvN0R",
        "outputId": "910e7a5f-1419-4fcd-9e1b-ed272f637dd5"
      },
      "source": [
        "df['default'].value_counts()"
      ],
      "execution_count": 17,
      "outputs": [
        {
          "output_type": "execute_result",
          "data": {
            "text/plain": [
              "0    700\n",
              "1    300\n",
              "Name: default, dtype: int64"
            ]
          },
          "metadata": {},
          "execution_count": 17
        }
      ]
    },
    {
      "cell_type": "markdown",
      "metadata": {
        "id": "4i92PD4e8_Ut"
      },
      "source": [
        "Имеем дисбаланс по целевой переменной 30/70"
      ]
    },
    {
      "cell_type": "markdown",
      "metadata": {
        "id": "acibOgsODMiw"
      },
      "source": [
        "### Признаковое пространство"
      ]
    },
    {
      "cell_type": "markdown",
      "metadata": {
        "id": "S0DQ87XHDhsd"
      },
      "source": [
        "#### Количественные (числовые) признаки\n"
      ]
    },
    {
      "cell_type": "code",
      "metadata": {
        "colab": {
          "base_uri": "https://localhost:8080/"
        },
        "id": "sBAWUavcDzd4",
        "outputId": "50a6b7f0-ede5-4e0f-bd34-d1fba1b8361a"
      },
      "source": [
        "df.iloc[:, :-1].select_dtypes(include='int64').columns.tolist()"
      ],
      "execution_count": 18,
      "outputs": [
        {
          "output_type": "execute_result",
          "data": {
            "text/plain": [
              "['age', 'job', 'credit_amount', 'duration']"
            ]
          },
          "metadata": {},
          "execution_count": 18
        }
      ]
    },
    {
      "cell_type": "markdown",
      "metadata": {
        "id": "ISKUuKOOFCrZ"
      },
      "source": [
        "* age - возраст"
      ]
    },
    {
      "cell_type": "code",
      "metadata": {
        "colab": {
          "base_uri": "https://localhost:8080/"
        },
        "id": "4D8U7Hae8t3c",
        "outputId": "d5e170df-875a-4b4b-c6bd-c93acfd083b2"
      },
      "source": [
        "df['age'].describe()"
      ],
      "execution_count": 19,
      "outputs": [
        {
          "output_type": "execute_result",
          "data": {
            "text/plain": [
              "count    1000.000000\n",
              "mean       35.546000\n",
              "std        11.375469\n",
              "min        19.000000\n",
              "25%        27.000000\n",
              "50%        33.000000\n",
              "75%        42.000000\n",
              "max        75.000000\n",
              "Name: age, dtype: float64"
            ]
          },
          "metadata": {},
          "execution_count": 19
        }
      ]
    },
    {
      "cell_type": "markdown",
      "metadata": {
        "id": "pEfbdmNvGImO"
      },
      "source": [
        "Неправдоподобно маленьких/больших значений не выявлено"
      ]
    },
    {
      "cell_type": "code",
      "metadata": {
        "colab": {
          "base_uri": "https://localhost:8080/",
          "height": 282
        },
        "id": "QsTZumsC5A-U",
        "outputId": "c9315e35-678b-41ab-db13-971724e1bfc7"
      },
      "source": [
        "df['age'].hist()"
      ],
      "execution_count": 20,
      "outputs": [
        {
          "output_type": "execute_result",
          "data": {
            "text/plain": [
              "<matplotlib.axes._subplots.AxesSubplot at 0x7f4e14e06750>"
            ]
          },
          "metadata": {},
          "execution_count": 20
        },
        {
          "output_type": "display_data",
          "data": {
            "image/png": "[encoded data removed]",
            "text/plain": [
              "<Figure size 432x288 with 1 Axes>"
            ]
          },
          "metadata": {
            "needs_background": "light"
          }
        }
      ]
    },
    {
      "cell_type": "markdown",
      "metadata": {
        "id": "Qid2ziAt5R-4"
      },
      "source": [
        "Большая чать клиентов находятся в диапазоне от 20 до 40 (очень грубо)"
      ]
    },
    {
      "cell_type": "markdown",
      "metadata": {
        "id": "RWJ1-BWnGYgM"
      },
      "source": [
        "* job - работа"
      ]
    },
    {
      "cell_type": "code",
      "metadata": {
        "colab": {
          "base_uri": "https://localhost:8080/"
        },
        "id": "snT6VovEFzdw",
        "outputId": "c8b67981-55d2-4003-9ff9-6cec241c5da2"
      },
      "source": [
        "df['job'].value_counts(normalize=True)"
      ],
      "execution_count": 21,
      "outputs": [
        {
          "output_type": "execute_result",
          "data": {
            "text/plain": [
              "2    0.630\n",
              "1    0.200\n",
              "3    0.148\n",
              "0    0.022\n",
              "Name: job, dtype: float64"
            ]
          },
          "metadata": {},
          "execution_count": 21
        }
      ]
    },
    {
      "cell_type": "markdown",
      "metadata": {
        "id": "7BVovSWQKrrw"
      },
      "source": [
        "Как таковым количественным признаком не является, так как категориальное значение закодировано в виде номинальной переменной (0 - unskilled and non-resident, 1 - unskilled and resident, 2 - skilled, 3 - highly skilled) "
      ]
    },
    {
      "cell_type": "markdown",
      "metadata": {
        "id": "vTgaF-aCEj_V"
      },
      "source": [
        "Выполню техническую замену (раскодирование) для преобразовани количественных значений в категориальные"
      ]
    },
    {
      "cell_type": "code",
      "metadata": {
        "id": "iRcvQOuiEihl"
      },
      "source": [
        "df.loc[df['job'] == 0, 'job'] = 'unskilled and non-resident'\n",
        "df.loc[df['job'] == 1, 'job'] = 'unskilled and resident'\n",
        "df.loc[df['job'] == 2, 'job'] = 'skilled'\n",
        "df.loc[df['job'] == 3, 'job'] = 'highly skilled'"
      ],
      "execution_count": 22,
      "outputs": []
    },
    {
      "cell_type": "code",
      "metadata": {
        "colab": {
          "base_uri": "https://localhost:8080/"
        },
        "id": "OHL0klPoEiUy",
        "outputId": "6965466b-65af-45ba-fc7b-3f745aaf86e8"
      },
      "source": [
        "df['job'].value_counts()"
      ],
      "execution_count": 23,
      "outputs": [
        {
          "output_type": "execute_result",
          "data": {
            "text/plain": [
              "skilled                       630\n",
              "unskilled and resident        200\n",
              "highly skilled                148\n",
              "unskilled and non-resident     22\n",
              "Name: job, dtype: int64"
            ]
          },
          "metadata": {},
          "execution_count": 23
        }
      ]
    },
    {
      "cell_type": "markdown",
      "metadata": {
        "id": "Blfqt5E9QH1J"
      },
      "source": [
        "Имеем значительный дисбаланс в сторону \"skilled\" (квалифицированный)"
      ]
    },
    {
      "cell_type": "markdown",
      "metadata": {
        "id": "rncp1K6eLR6u"
      },
      "source": [
        "* credit_amount - сумма кредита"
      ]
    },
    {
      "cell_type": "code",
      "metadata": {
        "colab": {
          "base_uri": "https://localhost:8080/"
        },
        "id": "glLfkWAHGfjz",
        "outputId": "994decb4-e155-42ef-e193-cc652138dd86"
      },
      "source": [
        "df['credit_amount'].describe()"
      ],
      "execution_count": 24,
      "outputs": [
        {
          "output_type": "execute_result",
          "data": {
            "text/plain": [
              "count     1000.000000\n",
              "mean      3271.258000\n",
              "std       2822.736876\n",
              "min        250.000000\n",
              "25%       1365.500000\n",
              "50%       2319.500000\n",
              "75%       3972.250000\n",
              "max      18424.000000\n",
              "Name: credit_amount, dtype: float64"
            ]
          },
          "metadata": {},
          "execution_count": 24
        }
      ]
    },
    {
      "cell_type": "code",
      "metadata": {
        "colab": {
          "base_uri": "https://localhost:8080/",
          "height": 282
        },
        "id": "3vlYKFFsLYoY",
        "outputId": "13e7d537-0014-416a-f5bb-f8c354dd76f5"
      },
      "source": [
        "df['credit_amount'].hist()"
      ],
      "execution_count": 25,
      "outputs": [
        {
          "output_type": "execute_result",
          "data": {
            "text/plain": [
              "<matplotlib.axes._subplots.AxesSubplot at 0x7f4e14b1e050>"
            ]
          },
          "metadata": {},
          "execution_count": 25
        },
        {
          "output_type": "display_data",
          "data": {
            "image/png": "[encoded data removed]",
            "text/plain": [
              "<Figure size 432x288 with 1 Axes>"
            ]
          },
          "metadata": {
            "needs_background": "light"
          }
        }
      ]
    },
    {
      "cell_type": "code",
      "metadata": {
        "colab": {
          "base_uri": "https://localhost:8080/",
          "height": 283
        },
        "id": "5lN6VSggMbNj",
        "outputId": "f672d12a-a92f-48bd-b4dd-a317be3e3b85"
      },
      "source": [
        "df.boxplot('credit_amount')"
      ],
      "execution_count": 26,
      "outputs": [
        {
          "output_type": "execute_result",
          "data": {
            "text/plain": [
              "<matplotlib.axes._subplots.AxesSubplot at 0x7f4dfe336890>"
            ]
          },
          "metadata": {},
          "execution_count": 26
        },
        {
          "output_type": "display_data",
          "data": {
            "image/png": "[encoded data removed]",
            "text/plain": [
              "<Figure size 432x288 with 1 Axes>"
            ]
          },
          "metadata": {
            "needs_background": "light"
          }
        }
      ]
    },
    {
      "cell_type": "markdown",
      "metadata": {
        "id": "opb_OfqDORWY"
      },
      "source": [
        "Распределение асимметричное, в связи с чем \"выбросы\", которые видим на boxplot, как таковыми выбросами не считаю (так называемый \"жирный хвост\")"
      ]
    },
    {
      "cell_type": "markdown",
      "metadata": {
        "id": "CpkRP-H6QWsm"
      },
      "source": [
        "* duration - продолжительность (числовое значение в месяцах)"
      ]
    },
    {
      "cell_type": "code",
      "metadata": {
        "colab": {
          "base_uri": "https://localhost:8080/"
        },
        "id": "L0wHHwk3N2u0",
        "outputId": "d357347f-5003-4d13-cfb3-6257009d8baa"
      },
      "source": [
        "df['duration'].describe()"
      ],
      "execution_count": 27,
      "outputs": [
        {
          "output_type": "execute_result",
          "data": {
            "text/plain": [
              "count    1000.000000\n",
              "mean       20.903000\n",
              "std        12.058814\n",
              "min         4.000000\n",
              "25%        12.000000\n",
              "50%        18.000000\n",
              "75%        24.000000\n",
              "max        72.000000\n",
              "Name: duration, dtype: float64"
            ]
          },
          "metadata": {},
          "execution_count": 27
        }
      ]
    },
    {
      "cell_type": "markdown",
      "metadata": {
        "id": "AGJJrFj5RXjZ"
      },
      "source": [
        "Неправдоподобно маленьких/больших значений не выявлено"
      ]
    },
    {
      "cell_type": "markdown",
      "metadata": {
        "id": "XI5_AqaKRcSS"
      },
      "source": [
        "#### Качественные (категориальные) признаки"
      ]
    },
    {
      "cell_type": "code",
      "metadata": {
        "colab": {
          "base_uri": "https://localhost:8080/"
        },
        "id": "t4nkqOwtQ6lJ",
        "outputId": "bbee09f8-4497-416d-e3f8-898c1d5825fb"
      },
      "source": [
        "df.select_dtypes(include='object').columns.tolist()"
      ],
      "execution_count": 28,
      "outputs": [
        {
          "output_type": "execute_result",
          "data": {
            "text/plain": [
              "['sex', 'job', 'housing', 'saving_accounts', 'checking_account', 'purpose']"
            ]
          },
          "metadata": {},
          "execution_count": 28
        }
      ]
    },
    {
      "cell_type": "markdown",
      "metadata": {
        "id": "zGZuAHSfSGW5"
      },
      "source": [
        "* sex - пол"
      ]
    },
    {
      "cell_type": "code",
      "metadata": {
        "colab": {
          "base_uri": "https://localhost:8080/"
        },
        "id": "BdEAifQ2R6NY",
        "outputId": "dc924a30-6c82-4126-b06f-03f32fe6f477"
      },
      "source": [
        "df['sex'].value_counts()"
      ],
      "execution_count": 29,
      "outputs": [
        {
          "output_type": "execute_result",
          "data": {
            "text/plain": [
              "male      690\n",
              "female    310\n",
              "Name: sex, dtype: int64"
            ]
          },
          "metadata": {},
          "execution_count": 29
        }
      ]
    },
    {
      "cell_type": "markdown",
      "metadata": {
        "id": "Q2xt4X4ZSkbz"
      },
      "source": [
        "Имеем значительный дисбаланс в сторону \"male\" (мужчина)"
      ]
    },
    {
      "cell_type": "markdown",
      "metadata": {
        "id": "fYrJkf_RTQvf"
      },
      "source": [
        "* housing - жилье"
      ]
    },
    {
      "cell_type": "code",
      "metadata": {
        "colab": {
          "base_uri": "https://localhost:8080/"
        },
        "id": "dirY4uusSY8b",
        "outputId": "6c1047b5-1fef-4bef-96ee-3d8971ccba06"
      },
      "source": [
        "df['housing'].value_counts()"
      ],
      "execution_count": 30,
      "outputs": [
        {
          "output_type": "execute_result",
          "data": {
            "text/plain": [
              "own     713\n",
              "rent    179\n",
              "free    108\n",
              "Name: housing, dtype: int64"
            ]
          },
          "metadata": {},
          "execution_count": 30
        }
      ]
    },
    {
      "cell_type": "markdown",
      "metadata": {
        "id": "Zs6WWwjxTmAO"
      },
      "source": [
        "Имеем значительный дисбаланс в сторону \"own\" (собственность)"
      ]
    },
    {
      "cell_type": "markdown",
      "metadata": {
        "id": "vUNlIASyTz3d"
      },
      "source": [
        "* saving_accounts - Сберегательные счета"
      ]
    },
    {
      "cell_type": "code",
      "metadata": {
        "colab": {
          "base_uri": "https://localhost:8080/"
        },
        "id": "KHwZcH1PTeP5",
        "outputId": "2ddeb0ab-0670-4857-cdb5-a613fdac5272"
      },
      "source": [
        "df['saving_accounts'].value_counts()"
      ],
      "execution_count": 31,
      "outputs": [
        {
          "output_type": "execute_result",
          "data": {
            "text/plain": [
              "little        603\n",
              "moderate      103\n",
              "quite rich     63\n",
              "rich           48\n",
              "Name: saving_accounts, dtype: int64"
            ]
          },
          "metadata": {},
          "execution_count": 31
        }
      ]
    },
    {
      "cell_type": "code",
      "metadata": {
        "colab": {
          "base_uri": "https://localhost:8080/"
        },
        "id": "Frht3A93T-r9",
        "outputId": "61275adc-aeed-4701-cf12-33bc4967de40"
      },
      "source": [
        "sum(df['saving_accounts'].isnull().astype(int))"
      ],
      "execution_count": 32,
      "outputs": [
        {
          "output_type": "execute_result",
          "data": {
            "text/plain": [
              "183"
            ]
          },
          "metadata": {},
          "execution_count": 32
        }
      ]
    },
    {
      "cell_type": "markdown",
      "metadata": {
        "id": "kkVhEt3MVj_Y"
      },
      "source": [
        "Предполагаю, что пустые значения - это не пропуски, а отсутствие сберегательного счета, поэтому выполню техническую замену"
      ]
    },
    {
      "cell_type": "code",
      "metadata": {
        "id": "J19JaTwWUUoD"
      },
      "source": [
        "df['saving_accounts'] = df['saving_accounts'].fillna('no')"
      ],
      "execution_count": 33,
      "outputs": []
    },
    {
      "cell_type": "code",
      "metadata": {
        "colab": {
          "base_uri": "https://localhost:8080/"
        },
        "id": "plMXcwNMWGP8",
        "outputId": "68694a91-b2f9-41ed-b547-23b558f0991a"
      },
      "source": [
        "df['saving_accounts'].value_counts()"
      ],
      "execution_count": 34,
      "outputs": [
        {
          "output_type": "execute_result",
          "data": {
            "text/plain": [
              "little        603\n",
              "no            183\n",
              "moderate      103\n",
              "quite rich     63\n",
              "rich           48\n",
              "Name: saving_accounts, dtype: int64"
            ]
          },
          "metadata": {},
          "execution_count": 34
        }
      ]
    },
    {
      "cell_type": "markdown",
      "metadata": {
        "id": "BwaDvjHTWOZX"
      },
      "source": [
        "* checking_account - Расчетный счет"
      ]
    },
    {
      "cell_type": "code",
      "metadata": {
        "colab": {
          "base_uri": "https://localhost:8080/"
        },
        "id": "CL4JSWPsWHmT",
        "outputId": "fd53a702-38e7-4eb2-fd46-98515a907c94"
      },
      "source": [
        "df['checking_account'].value_counts()"
      ],
      "execution_count": 35,
      "outputs": [
        {
          "output_type": "execute_result",
          "data": {
            "text/plain": [
              "little      274\n",
              "moderate    269\n",
              "rich         63\n",
              "Name: checking_account, dtype: int64"
            ]
          },
          "metadata": {},
          "execution_count": 35
        }
      ]
    },
    {
      "cell_type": "code",
      "metadata": {
        "colab": {
          "base_uri": "https://localhost:8080/"
        },
        "id": "HpxlXeqhWXW5",
        "outputId": "7ecb6093-d976-43b7-9afd-aca426e18b9b"
      },
      "source": [
        "sum(df['checking_account'].isnull().astype(int))"
      ],
      "execution_count": 36,
      "outputs": [
        {
          "output_type": "execute_result",
          "data": {
            "text/plain": [
              "394"
            ]
          },
          "metadata": {},
          "execution_count": 36
        }
      ]
    },
    {
      "cell_type": "markdown",
      "metadata": {
        "id": "MSTGr_aBWmYz"
      },
      "source": [
        "Большое кол-во пропусков (большая часть), поэтому предсказывать или отбрасывать значения нет возможности. Предполагаю, что это не пропуски, а отсутствие у клиента расчетного счета, поэтому выполню техническую замену"
      ]
    },
    {
      "cell_type": "code",
      "metadata": {
        "id": "vCktZmsqWZ_T"
      },
      "source": [
        "df['checking_account'] = df['checking_account'].fillna('no')"
      ],
      "execution_count": 37,
      "outputs": []
    },
    {
      "cell_type": "code",
      "metadata": {
        "colab": {
          "base_uri": "https://localhost:8080/"
        },
        "id": "4V4aF6v7XMur",
        "outputId": "dc687e44-9ec6-4fc6-cd81-b3a05b8f85da"
      },
      "source": [
        "df['checking_account'].value_counts()"
      ],
      "execution_count": 38,
      "outputs": [
        {
          "output_type": "execute_result",
          "data": {
            "text/plain": [
              "no          394\n",
              "little      274\n",
              "moderate    269\n",
              "rich         63\n",
              "Name: checking_account, dtype: int64"
            ]
          },
          "metadata": {},
          "execution_count": 38
        }
      ]
    },
    {
      "cell_type": "markdown",
      "metadata": {
        "id": "4sQ1ndIvXR9x"
      },
      "source": [
        "* purpose - цель"
      ]
    },
    {
      "cell_type": "code",
      "metadata": {
        "colab": {
          "base_uri": "https://localhost:8080/"
        },
        "id": "lil0aRuUXOBT",
        "outputId": "09278b65-cfc6-4e72-bc5b-474c6c433412"
      },
      "source": [
        "df['purpose'].value_counts()"
      ],
      "execution_count": 39,
      "outputs": [
        {
          "output_type": "execute_result",
          "data": {
            "text/plain": [
              "car                    337\n",
              "radio/TV               280\n",
              "furniture/equipment    181\n",
              "business                97\n",
              "education               59\n",
              "repairs                 22\n",
              "domestic appliances     12\n",
              "vacation/others         12\n",
              "Name: purpose, dtype: int64"
            ]
          },
          "metadata": {},
          "execution_count": 39
        }
      ]
    },
    {
      "cell_type": "code",
      "metadata": {
        "colab": {
          "base_uri": "https://localhost:8080/",
          "height": 363
        },
        "id": "Kx1e8dnUXaP0",
        "outputId": "9b2d623e-10fc-46fb-f4e5-0eae25c71d02"
      },
      "source": [
        "df.groupby(['purpose'])[['default']].agg(['count','mean'])"
      ],
      "execution_count": 40,
      "outputs": [
        {
          "output_type": "execute_result",
          "data": {
            "text/html": [
              "\n",
              "  <div id=\"df-d5980378-1661-4011-aa3b-704a8bdfe05f\">\n",
              "    <div class=\"colab-df-container\">\n",
              "      <div>\n",
              "<style scoped>\n",
              "    .dataframe tbody tr th:only-of-type {\n",
              "        vertical-align: middle;\n",
              "    }\n",
              "\n",
              "    .dataframe tbody tr th {\n",
              "        vertical-align: top;\n",
              "    }\n",
              "\n",
              "    .dataframe thead tr th {\n",
              "        text-align: left;\n",
              "    }\n",
              "\n",
              "    .dataframe thead tr:last-of-type th {\n",
              "        text-align: right;\n",
              "    }\n",
              "</style>\n",
              "<table border=\"1\" class=\"dataframe\">\n",
              "  <thead>\n",
              "    <tr>\n",
              "      <th></th>\n",
              "      <th colspan=\"2\" halign=\"left\">default</th>\n",
              "    </tr>\n",
              "    <tr>\n",
              "      <th></th>\n",
              "      <th>count</th>\n",
              "      <th>mean</th>\n",
              "    </tr>\n",
              "    <tr>\n",
              "      <th>purpose</th>\n",
              "      <th></th>\n",
              "      <th></th>\n",
              "    </tr>\n",
              "  </thead>\n",
              "  <tbody>\n",
              "    <tr>\n",
              "      <th>business</th>\n",
              "      <td>97</td>\n",
              "      <td>0.350515</td>\n",
              "    </tr>\n",
              "    <tr>\n",
              "      <th>car</th>\n",
              "      <td>337</td>\n",
              "      <td>0.314540</td>\n",
              "    </tr>\n",
              "    <tr>\n",
              "      <th>domestic appliances</th>\n",
              "      <td>12</td>\n",
              "      <td>0.333333</td>\n",
              "    </tr>\n",
              "    <tr>\n",
              "      <th>education</th>\n",
              "      <td>59</td>\n",
              "      <td>0.389831</td>\n",
              "    </tr>\n",
              "    <tr>\n",
              "      <th>furniture/equipment</th>\n",
              "      <td>181</td>\n",
              "      <td>0.320442</td>\n",
              "    </tr>\n",
              "    <tr>\n",
              "      <th>radio/TV</th>\n",
              "      <td>280</td>\n",
              "      <td>0.221429</td>\n",
              "    </tr>\n",
              "    <tr>\n",
              "      <th>repairs</th>\n",
              "      <td>22</td>\n",
              "      <td>0.363636</td>\n",
              "    </tr>\n",
              "    <tr>\n",
              "      <th>vacation/others</th>\n",
              "      <td>12</td>\n",
              "      <td>0.416667</td>\n",
              "    </tr>\n",
              "  </tbody>\n",
              "</table>\n",
              "</div>\n",
              "      <button class=\"colab-df-convert\" onclick=\"convertToInteractive('df-d5980378-1661-4011-aa3b-704a8bdfe05f')\"\n",
              "              title=\"Convert this dataframe to an interactive table.\"\n",
              "              style=\"display:none;\">\n",
              "        \n",
              "  <svg xmlns=\"http://www.w3.org/2000/svg\" height=\"24px\"viewBox=\"0 0 24 24\"\n",
              "       width=\"24px\">\n",
              "    <path d=\"M0 0h24v24H0V0z\" fill=\"none\"/>\n",
              "    <path d=\"M18.56 5.44l.94 2.06.94-2.06 2.06-.94-2.06-.94-.94-2.06-.94 2.06-2.06.94zm-11 1L8.5 8.5l.94-2.06 2.06-.94-2.06-.94L8.5 2.5l-.94 2.06-2.06.94zm10 10l.94 2.06.94-2.06 2.06-.94-2.06-.94-.94-2.06-.94 2.06-2.06.94z\"/><path d=\"M17.41 7.96l-1.37-1.37c-.4-.4-.92-.59-1.43-.59-.52 0-1.04.2-1.43.59L10.3 9.45l-7.72 7.72c-.78.78-.78 2.05 0 2.83L4 21.41c.39.39.9.59 1.41.59.51 0 1.02-.2 1.41-.59l7.78-7.78 2.81-2.81c.8-.78.8-2.07 0-2.86zM5.41 20L4 18.59l7.72-7.72 1.47 1.35L5.41 20z\"/>\n",
              "  </svg>\n",
              "      </button>\n",
              "      \n",
              "  <style>\n",
              "    .colab-df-container {\n",
              "      display:flex;\n",
              "      flex-wrap:wrap;\n",
              "      gap: 12px;\n",
              "    }\n",
              "\n",
              "    .colab-df-convert {\n",
              "      background-color: #E8F0FE;\n",
              "      border: none;\n",
              "      border-radius: 50%;\n",
              "      cursor: pointer;\n",
              "      display: none;\n",
              "      fill: #1967D2;\n",
              "      height: 32px;\n",
              "      padding: 0 0 0 0;\n",
              "      width: 32px;\n",
              "    }\n",
              "\n",
              "    .colab-df-convert:hover {\n",
              "      background-color: #E2EBFA;\n",
              "      box-shadow: 0px 1px 2px rgba(60, 64, 67, 0.3), 0px 1px 3px 1px rgba(60, 64, 67, 0.15);\n",
              "      fill: #174EA6;\n",
              "    }\n",
              "\n",
              "    [theme=dark] .colab-df-convert {\n",
              "      background-color: #3B4455;\n",
              "      fill: #D2E3FC;\n",
              "    }\n",
              "\n",
              "    [theme=dark] .colab-df-convert:hover {\n",
              "      background-color: #434B5C;\n",
              "      box-shadow: 0px 1px 3px 1px rgba(0, 0, 0, 0.15);\n",
              "      filter: drop-shadow(0px 1px 2px rgba(0, 0, 0, 0.3));\n",
              "      fill: #FFFFFF;\n",
              "    }\n",
              "  </style>\n",
              "\n",
              "      <script>\n",
              "        const buttonEl =\n",
              "          document.querySelector('#df-d5980378-1661-4011-aa3b-704a8bdfe05f button.colab-df-convert');\n",
              "        buttonEl.style.display =\n",
              "          google.colab.kernel.accessAllowed ? 'block' : 'none';\n",
              "\n",
              "        async function convertToInteractive(key) {\n",
              "          const element = document.querySelector('#df-d5980378-1661-4011-aa3b-704a8bdfe05f');\n",
              "          const dataTable =\n",
              "            await google.colab.kernel.invokeFunction('convertToInteractive',\n",
              "                                                     [key], {});\n",
              "          if (!dataTable) return;\n",
              "\n",
              "          const docLinkHtml = 'Like what you see? Visit the ' +\n",
              "            '<a target=\"_blank\" href=https://colab.research.google.com/notebooks/data_table.ipynb>data table notebook</a>'\n",
              "            + ' to learn more about interactive tables.';\n",
              "          element.innerHTML = '';\n",
              "          dataTable['output_type'] = 'display_data';\n",
              "          await google.colab.output.renderOutput(dataTable, element);\n",
              "          const docLink = document.createElement('div');\n",
              "          docLink.innerHTML = docLinkHtml;\n",
              "          element.appendChild(docLink);\n",
              "        }\n",
              "      </script>\n",
              "    </div>\n",
              "  </div>\n",
              "  "
            ],
            "text/plain": [
              "                    default          \n",
              "                      count      mean\n",
              "purpose                              \n",
              "business                 97  0.350515\n",
              "car                     337  0.314540\n",
              "domestic appliances      12  0.333333\n",
              "education                59  0.389831\n",
              "furniture/equipment     181  0.320442\n",
              "radio/TV                280  0.221429\n",
              "repairs                  22  0.363636\n",
              "vacation/others          12  0.416667"
            ]
          },
          "metadata": {},
          "execution_count": 40
        }
      ]
    },
    {
      "cell_type": "markdown",
      "metadata": {
        "id": "0q1KFkPXhfG2"
      },
      "source": [
        "Укрупним классы по смыслу и сохранению распределения относительно целевой переменной:\n",
        "* объединим domestic appliances (бытовая техника) и radio/TV \n",
        "* объединим education (образование), repairs (ремонт), vacation/others (отпуск/другие) "
      ]
    },
    {
      "cell_type": "code",
      "metadata": {
        "id": "aLbO4Ox5ba0Q"
      },
      "source": [
        "df.loc[df['purpose'] == 'radio/TV', 'purpose'] = 'domestic appliances'"
      ],
      "execution_count": 41,
      "outputs": []
    },
    {
      "cell_type": "code",
      "metadata": {
        "id": "Rjt7m1NPMHlV"
      },
      "source": [
        "important_purpose = ['car', 'domestic appliances', 'furniture/equipment', 'business']\n",
        "\n",
        "df.loc[~df['purpose'].isin(important_purpose), 'purpose'] = 'other'"
      ],
      "execution_count": 42,
      "outputs": []
    },
    {
      "cell_type": "code",
      "metadata": {
        "colab": {
          "base_uri": "https://localhost:8080/"
        },
        "id": "PC_XynEYjeFl",
        "outputId": "96cdc9f9-8880-4cad-9e70-eb2b6c8095a5"
      },
      "source": [
        "df['purpose'].value_counts()"
      ],
      "execution_count": 43,
      "outputs": [
        {
          "output_type": "execute_result",
          "data": {
            "text/plain": [
              "car                    337\n",
              "domestic appliances    292\n",
              "furniture/equipment    181\n",
              "business                97\n",
              "other                   93\n",
              "Name: purpose, dtype: int64"
            ]
          },
          "metadata": {},
          "execution_count": 43
        }
      ]
    },
    {
      "cell_type": "markdown",
      "metadata": {
        "id": "jk5JQC2qj_dS"
      },
      "source": [
        "## Графический анализ"
      ]
    },
    {
      "cell_type": "markdown",
      "metadata": {
        "id": "uj7TGwAckN0g"
      },
      "source": [
        "### Количественные (числовые) признаки в разрезе целевой переменной"
      ]
    },
    {
      "cell_type": "code",
      "metadata": {
        "colab": {
          "base_uri": "https://localhost:8080/",
          "height": 774
        },
        "id": "gValD_dGjgZc",
        "outputId": "2efaa0cf-fe08-48ba-f9e6-85a0ab3f9e66"
      },
      "source": [
        "sns.set(font_scale=1.4)\n",
        "plt.figure(figsize=(20,60))\n",
        "\n",
        "for i, colname in enumerate(['age', 'credit_amount', 'duration']):\n",
        "    plt.subplot(9,2,i+1)\n",
        "    plt.title(colname)\n",
        "    sns.kdeplot(x=df.loc[df['default'] == 1, colname], shade=True, alpha=0.5, legend=False, color='r')\n",
        "    sns.kdeplot(x=df.loc[df['default'] == 0, colname], shade=True, legend=False, color='g')\n",
        "    \n",
        "plt.show()"
      ],
      "execution_count": 45,
      "outputs": [
        {
          "output_type": "display_data",
          "data": {
            "image/png": "[encoded data removed]",
            "text/plain": [
              "<Figure size 1440x4320 with 3 Axes>"
            ]
          },
          "metadata": {}
        }
      ]
    },
    {
      "cell_type": "markdown",
      "metadata": {
        "id": "CEipmJ_c50VF"
      },
      "source": [
        "Выводы:\n",
        "* Клиенты в возрасте от 19 до 32 менее обязательные, а от 32 до 55 наоборот \n",
        "* По большим кредитам, с более долгим сроком возврата чаще просрочка (что логичо)"
      ]
    },
    {
      "cell_type": "markdown",
      "metadata": {
        "id": "0QxNcGkqlghp"
      },
      "source": [
        "### Качественные (категориальные) признаки в разрезе целевой переменной"
      ]
    },
    {
      "cell_type": "code",
      "metadata": {
        "colab": {
          "base_uri": "https://localhost:8080/",
          "height": 892
        },
        "id": "yI6OW4vclSZY",
        "outputId": "fbb13e74-9751-4380-8dd2-cc1c365fad34"
      },
      "source": [
        "sns.set(font_scale=1.4)\n",
        "plt.figure(figsize=(30,25))\n",
        "\n",
        "for i, colname in enumerate(['sex', 'job', 'housing', 'saving_accounts', 'checking_account', 'purpose']):\n",
        "    plt.subplot(4,2,i+1)\n",
        "    plt.title(colname)\n",
        "    \n",
        "    val_counts_t1 = df.loc[df['default'] == 1, colname].value_counts()\n",
        "    val_counts_t0 = df.loc[df['default'] == 0, colname].value_counts()\n",
        "    \n",
        "    sns.barplot(x=val_counts_t1.values, y=val_counts_t1.index, alpha=0.8)\n",
        "    sns.barplot(x=val_counts_t0.values, y=val_counts_t0.index, alpha=0.5)\n",
        "    \n",
        "plt.show()"
      ],
      "execution_count": 48,
      "outputs": [
        {
          "output_type": "display_data",
          "data": {
            "image/png": "[encoded data removed]",
            "text/plain": [
              "<Figure size 2160x1800 with 6 Axes>"
            ]
          },
          "metadata": {}
        }
      ]
    },
    {
      "cell_type": "markdown",
      "source": [
        "Выводы:\n",
        "* Квалифицированые клиеты более обязательные. Считаю данный перекос связан с дибалансом в кол-ве значений (ранее было выявлео что квалифицированных клиентов больше всех с зачительным перевесом). Думаю зависимость связана с влияием других переменых\n",
        "* Женщины чаще допускают просрочку. "
      ],
      "metadata": {
        "id": "LPX6snpe5yfu"
      }
    },
    {
      "cell_type": "markdown",
      "metadata": {
        "id": "ya_qC5X1nfX8"
      },
      "source": [
        "### Оценка корреляций с целевой переменной"
      ]
    },
    {
      "cell_type": "code",
      "metadata": {
        "colab": {
          "base_uri": "https://localhost:8080/",
          "height": 347
        },
        "id": "bp8xcdMDmGss",
        "outputId": "bee9e04b-789c-4031-81aa-bf683d3bce7a"
      },
      "source": [
        "corr_with_target = df.corr().iloc[:-1, -1].sort_values(ascending=False)\n",
        "\n",
        "plt.figure(figsize=(10, 5))\n",
        "\n",
        "sns.barplot(x=corr_with_target.values, y=corr_with_target.index)\n",
        "\n",
        "plt.title('Correlation with target variable')\n",
        "plt.show()"
      ],
      "execution_count": null,
      "outputs": [
        {
          "output_type": "display_data",
          "data": {
            "image/png": "[encoded data removed]",
            "text/plain": [
              "<Figure size 720x360 with 1 Axes>"
            ]
          },
          "metadata": {}
        }
      ]
    },
    {
      "cell_type": "markdown",
      "metadata": {
        "id": "mz_J8rLN1aqf"
      },
      "source": [
        "Сильной линейной зависимости по отношению к целевой переменной у количественных (числовых) признаков не наблюдается "
      ]
    },
    {
      "cell_type": "markdown",
      "metadata": {
        "id": "gZjMwr-D-g0N"
      },
      "source": [
        "### Анализ линейных зависимостей в признаковом пространстве"
      ]
    },
    {
      "cell_type": "code",
      "metadata": {
        "scrolled": false,
        "id": "XoT5nNYw-g0N",
        "colab": {
          "base_uri": "https://localhost:8080/",
          "height": 339
        },
        "outputId": "cd55941d-0c33-45de-9aff-1367e13eac3a"
      },
      "source": [
        "plt.figure(figsize=(10,5))\n",
        "\n",
        "sns.set(font_scale=1)\n",
        "sns.heatmap(df.drop(columns='default').corr(), annot=True, linewidths=.5, cmap='GnBu')\n",
        "\n",
        "plt.title('Correlation matrix')\n",
        "plt.show()"
      ],
      "execution_count": null,
      "outputs": [
        {
          "output_type": "display_data",
          "data": {
            "image/png": "[encoded data removed]",
            "text/plain": [
              "<Figure size 720x360 with 2 Axes>"
            ]
          },
          "metadata": {}
        }
      ]
    },
    {
      "cell_type": "code",
      "metadata": {
        "colab": {
          "base_uri": "https://localhost:8080/",
          "height": 350
        },
        "id": "s5rI_CipPSWs",
        "outputId": "2647d12d-d8cd-4a8a-98b9-a998d7ad0c2a"
      },
      "source": [
        "df.plot(x = 'credit_amount', y = 'duration', kind = 'scatter')"
      ],
      "execution_count": 50,
      "outputs": [
        {
          "output_type": "stream",
          "name": "stderr",
          "text": [
            "*c* argument looks like a single numeric RGB or RGBA sequence, which should be avoided as value-mapping will have precedence in case its length matches with *x* & *y*.  Please use the *color* keyword-argument or provide a 2-D array with a single row if you intend to specify the same RGB or RGBA value for all points.\n"
          ]
        },
        {
          "output_type": "execute_result",
          "data": {
            "text/plain": [
              "<matplotlib.axes._subplots.AxesSubplot at 0x7f4dfc101110>"
            ]
          },
          "metadata": {},
          "execution_count": 50
        },
        {
          "output_type": "display_data",
          "data": {
            "image/png": "[encoded data removed]",
            "text/plain": [
              "<Figure size 432x288 with 1 Axes>"
            ]
          },
          "metadata": {}
        }
      ]
    },
    {
      "cell_type": "markdown",
      "metadata": {
        "id": "NZPeqqgYy5R1"
      },
      "source": [
        "При этом имеется линейная зависимость у двух признаков между собой: credit_amount и duration"
      ]
    },
    {
      "cell_type": "markdown",
      "source": [
        "## Подготовка данных для работы моделей"
      ],
      "metadata": {
        "id": "Ifg5HrZ5pAIR"
      }
    },
    {
      "cell_type": "markdown",
      "metadata": {
        "id": "14jOYS1L-g0b"
      },
      "source": [
        "### Создание синтетических главных компонентов"
      ]
    },
    {
      "cell_type": "code",
      "metadata": {
        "id": "2v5Yj8VG-g0b"
      },
      "source": [
        "important_features = ['age', 'credit_amount', 'duration']"
      ],
      "execution_count": null,
      "outputs": []
    },
    {
      "cell_type": "code",
      "metadata": {
        "id": "toXtuaA--g0b"
      },
      "source": [
        "n = 2\n",
        "component_names = ['component_' + str(i+1) for i in range(n)]"
      ],
      "execution_count": null,
      "outputs": []
    },
    {
      "cell_type": "code",
      "metadata": {
        "id": "A7qbjIxV-g0b"
      },
      "source": [
        "pca = PCA(n_components=n)\n",
        "\n",
        "train_components = pca.fit_transform(df[important_features])\n",
        "train_components = pd.DataFrame(data=train_components, columns=component_names)"
      ],
      "execution_count": null,
      "outputs": []
    },
    {
      "cell_type": "code",
      "metadata": {
        "id": "7rL_L37E-g0b"
      },
      "source": [
        "df = pd.concat([df, train_components], axis=1)"
      ],
      "execution_count": null,
      "outputs": []
    },
    {
      "cell_type": "code",
      "metadata": {
        "colab": {
          "base_uri": "https://localhost:8080/",
          "height": 206
        },
        "id": "9eEIHX7uGAoR",
        "outputId": "1432db20-aee3-46e9-cae1-44be90f4de6f"
      },
      "source": [
        "df.head()"
      ],
      "execution_count": null,
      "outputs": [
        {
          "output_type": "execute_result",
          "data": {
            "text/html": [
              "\n",
              "  <div id=\"df-f75ef2ca-477a-4ec7-9c50-f82b00c053d8\">\n",
              "    <div class=\"colab-df-container\">\n",
              "      <div>\n",
              "<style scoped>\n",
              "    .dataframe tbody tr th:only-of-type {\n",
              "        vertical-align: middle;\n",
              "    }\n",
              "\n",
              "    .dataframe tbody tr th {\n",
              "        vertical-align: top;\n",
              "    }\n",
              "\n",
              "    .dataframe thead th {\n",
              "        text-align: right;\n",
              "    }\n",
              "</style>\n",
              "<table border=\"1\" class=\"dataframe\">\n",
              "  <thead>\n",
              "    <tr style=\"text-align: right;\">\n",
              "      <th></th>\n",
              "      <th>age</th>\n",
              "      <th>sex</th>\n",
              "      <th>job</th>\n",
              "      <th>housing</th>\n",
              "      <th>saving_accounts</th>\n",
              "      <th>checking_account</th>\n",
              "      <th>credit_amount</th>\n",
              "      <th>duration</th>\n",
              "      <th>purpose</th>\n",
              "      <th>default</th>\n",
              "      <th>component_1</th>\n",
              "      <th>component_2</th>\n",
              "    </tr>\n",
              "  </thead>\n",
              "  <tbody>\n",
              "    <tr>\n",
              "      <th>0</th>\n",
              "      <td>67</td>\n",
              "      <td>male</td>\n",
              "      <td>skilled</td>\n",
              "      <td>own</td>\n",
              "      <td>no</td>\n",
              "      <td>little</td>\n",
              "      <td>1169</td>\n",
              "      <td>6</td>\n",
              "      <td>domestic appliances</td>\n",
              "      <td>0</td>\n",
              "      <td>-2102.286132</td>\n",
              "      <td>32.889919</td>\n",
              "    </tr>\n",
              "    <tr>\n",
              "      <th>1</th>\n",
              "      <td>22</td>\n",
              "      <td>female</td>\n",
              "      <td>skilled</td>\n",
              "      <td>own</td>\n",
              "      <td>little</td>\n",
              "      <td>moderate</td>\n",
              "      <td>5951</td>\n",
              "      <td>48</td>\n",
              "      <td>domestic appliances</td>\n",
              "      <td>1</td>\n",
              "      <td>2679.802987</td>\n",
              "      <td>-17.286115</td>\n",
              "    </tr>\n",
              "    <tr>\n",
              "      <th>2</th>\n",
              "      <td>49</td>\n",
              "      <td>male</td>\n",
              "      <td>unskilled and resident</td>\n",
              "      <td>own</td>\n",
              "      <td>little</td>\n",
              "      <td>no</td>\n",
              "      <td>2096</td>\n",
              "      <td>12</td>\n",
              "      <td>other</td>\n",
              "      <td>0</td>\n",
              "      <td>-1175.275798</td>\n",
              "      <td>14.428937</td>\n",
              "    </tr>\n",
              "    <tr>\n",
              "      <th>3</th>\n",
              "      <td>45</td>\n",
              "      <td>male</td>\n",
              "      <td>skilled</td>\n",
              "      <td>free</td>\n",
              "      <td>little</td>\n",
              "      <td>little</td>\n",
              "      <td>7882</td>\n",
              "      <td>42</td>\n",
              "      <td>furniture/equipment</td>\n",
              "      <td>0</td>\n",
              "      <td>4610.783100</td>\n",
              "      <td>7.105541</td>\n",
              "    </tr>\n",
              "    <tr>\n",
              "      <th>4</th>\n",
              "      <td>53</td>\n",
              "      <td>male</td>\n",
              "      <td>skilled</td>\n",
              "      <td>free</td>\n",
              "      <td>little</td>\n",
              "      <td>little</td>\n",
              "      <td>4870</td>\n",
              "      <td>24</td>\n",
              "      <td>car</td>\n",
              "      <td>1</td>\n",
              "      <td>1598.746858</td>\n",
              "      <td>17.169679</td>\n",
              "    </tr>\n",
              "  </tbody>\n",
              "</table>\n",
              "</div>\n",
              "      <button class=\"colab-df-convert\" onclick=\"convertToInteractive('df-f75ef2ca-477a-4ec7-9c50-f82b00c053d8')\"\n",
              "              title=\"Convert this dataframe to an interactive table.\"\n",
              "              style=\"display:none;\">\n",
              "        \n",
              "  <svg xmlns=\"http://www.w3.org/2000/svg\" height=\"24px\"viewBox=\"0 0 24 24\"\n",
              "       width=\"24px\">\n",
              "    <path d=\"M0 0h24v24H0V0z\" fill=\"none\"/>\n",
              "    <path d=\"M18.56 5.44l.94 2.06.94-2.06 2.06-.94-2.06-.94-.94-2.06-.94 2.06-2.06.94zm-11 1L8.5 8.5l.94-2.06 2.06-.94-2.06-.94L8.5 2.5l-.94 2.06-2.06.94zm10 10l.94 2.06.94-2.06 2.06-.94-2.06-.94-.94-2.06-.94 2.06-2.06.94z\"/><path d=\"M17.41 7.96l-1.37-1.37c-.4-.4-.92-.59-1.43-.59-.52 0-1.04.2-1.43.59L10.3 9.45l-7.72 7.72c-.78.78-.78 2.05 0 2.83L4 21.41c.39.39.9.59 1.41.59.51 0 1.02-.2 1.41-.59l7.78-7.78 2.81-2.81c.8-.78.8-2.07 0-2.86zM5.41 20L4 18.59l7.72-7.72 1.47 1.35L5.41 20z\"/>\n",
              "  </svg>\n",
              "      </button>\n",
              "      \n",
              "  <style>\n",
              "    .colab-df-container {\n",
              "      display:flex;\n",
              "      flex-wrap:wrap;\n",
              "      gap: 12px;\n",
              "    }\n",
              "\n",
              "    .colab-df-convert {\n",
              "      background-color: #E8F0FE;\n",
              "      border: none;\n",
              "      border-radius: 50%;\n",
              "      cursor: pointer;\n",
              "      display: none;\n",
              "      fill: #1967D2;\n",
              "      height: 32px;\n",
              "      padding: 0 0 0 0;\n",
              "      width: 32px;\n",
              "    }\n",
              "\n",
              "    .colab-df-convert:hover {\n",
              "      background-color: #E2EBFA;\n",
              "      box-shadow: 0px 1px 2px rgba(60, 64, 67, 0.3), 0px 1px 3px 1px rgba(60, 64, 67, 0.15);\n",
              "      fill: #174EA6;\n",
              "    }\n",
              "\n",
              "    [theme=dark] .colab-df-convert {\n",
              "      background-color: #3B4455;\n",
              "      fill: #D2E3FC;\n",
              "    }\n",
              "\n",
              "    [theme=dark] .colab-df-convert:hover {\n",
              "      background-color: #434B5C;\n",
              "      box-shadow: 0px 1px 3px 1px rgba(0, 0, 0, 0.15);\n",
              "      filter: drop-shadow(0px 1px 2px rgba(0, 0, 0, 0.3));\n",
              "      fill: #FFFFFF;\n",
              "    }\n",
              "  </style>\n",
              "\n",
              "      <script>\n",
              "        const buttonEl =\n",
              "          document.querySelector('#df-f75ef2ca-477a-4ec7-9c50-f82b00c053d8 button.colab-df-convert');\n",
              "        buttonEl.style.display =\n",
              "          google.colab.kernel.accessAllowed ? 'block' : 'none';\n",
              "\n",
              "        async function convertToInteractive(key) {\n",
              "          const element = document.querySelector('#df-f75ef2ca-477a-4ec7-9c50-f82b00c053d8');\n",
              "          const dataTable =\n",
              "            await google.colab.kernel.invokeFunction('convertToInteractive',\n",
              "                                                     [key], {});\n",
              "          if (!dataTable) return;\n",
              "\n",
              "          const docLinkHtml = 'Like what you see? Visit the ' +\n",
              "            '<a target=\"_blank\" href=https://colab.research.google.com/notebooks/data_table.ipynb>data table notebook</a>'\n",
              "            + ' to learn more about interactive tables.';\n",
              "          element.innerHTML = '';\n",
              "          dataTable['output_type'] = 'display_data';\n",
              "          await google.colab.output.renderOutput(dataTable, element);\n",
              "          const docLink = document.createElement('div');\n",
              "          docLink.innerHTML = docLinkHtml;\n",
              "          element.appendChild(docLink);\n",
              "        }\n",
              "      </script>\n",
              "    </div>\n",
              "  </div>\n",
              "  "
            ],
            "text/plain": [
              "   age     sex                     job  ... default  component_1 component_2\n",
              "0   67    male                 skilled  ...       0 -2102.286132   32.889919\n",
              "1   22  female                 skilled  ...       1  2679.802987  -17.286115\n",
              "2   49    male  unskilled and resident  ...       0 -1175.275798   14.428937\n",
              "3   45    male                 skilled  ...       0  4610.783100    7.105541\n",
              "4   53    male                 skilled  ...       1  1598.746858   17.169679\n",
              "\n",
              "[5 rows x 12 columns]"
            ]
          },
          "metadata": {},
          "execution_count": 56
        }
      ]
    },
    {
      "cell_type": "markdown",
      "source": [
        "### Исключение зависимых признаков"
      ],
      "metadata": {
        "id": "Zq04aazX8eji"
      }
    },
    {
      "cell_type": "markdown",
      "source": [
        "В связи с тем, что выявлена внутренняя корреляция в признаках credit_amount и duration, исключим один из них:"
      ],
      "metadata": {
        "id": "sNKh3WOa8oEq"
      }
    },
    {
      "cell_type": "code",
      "source": [
        "df.drop('credit_amount', axis=1, inplace=True)"
      ],
      "metadata": {
        "id": "HRYeudJJ9QSL"
      },
      "execution_count": null,
      "outputs": []
    },
    {
      "cell_type": "code",
      "source": [
        "df.head()"
      ],
      "metadata": {
        "colab": {
          "base_uri": "https://localhost:8080/",
          "height": 206
        },
        "id": "fP0pH2hl9bKy",
        "outputId": "428e875d-bcfb-40d1-afe5-ab2896baf6e0"
      },
      "execution_count": null,
      "outputs": [
        {
          "output_type": "execute_result",
          "data": {
            "text/html": [
              "\n",
              "  <div id=\"df-222a7dcb-79d4-46fb-a8f9-3d6e8fc29245\">\n",
              "    <div class=\"colab-df-container\">\n",
              "      <div>\n",
              "<style scoped>\n",
              "    .dataframe tbody tr th:only-of-type {\n",
              "        vertical-align: middle;\n",
              "    }\n",
              "\n",
              "    .dataframe tbody tr th {\n",
              "        vertical-align: top;\n",
              "    }\n",
              "\n",
              "    .dataframe thead th {\n",
              "        text-align: right;\n",
              "    }\n",
              "</style>\n",
              "<table border=\"1\" class=\"dataframe\">\n",
              "  <thead>\n",
              "    <tr style=\"text-align: right;\">\n",
              "      <th></th>\n",
              "      <th>age</th>\n",
              "      <th>sex</th>\n",
              "      <th>job</th>\n",
              "      <th>housing</th>\n",
              "      <th>saving_accounts</th>\n",
              "      <th>checking_account</th>\n",
              "      <th>duration</th>\n",
              "      <th>purpose</th>\n",
              "      <th>default</th>\n",
              "      <th>component_1</th>\n",
              "      <th>component_2</th>\n",
              "    </tr>\n",
              "  </thead>\n",
              "  <tbody>\n",
              "    <tr>\n",
              "      <th>0</th>\n",
              "      <td>67</td>\n",
              "      <td>male</td>\n",
              "      <td>skilled</td>\n",
              "      <td>own</td>\n",
              "      <td>no</td>\n",
              "      <td>little</td>\n",
              "      <td>6</td>\n",
              "      <td>domestic appliances</td>\n",
              "      <td>0</td>\n",
              "      <td>-2102.286132</td>\n",
              "      <td>32.889919</td>\n",
              "    </tr>\n",
              "    <tr>\n",
              "      <th>1</th>\n",
              "      <td>22</td>\n",
              "      <td>female</td>\n",
              "      <td>skilled</td>\n",
              "      <td>own</td>\n",
              "      <td>little</td>\n",
              "      <td>moderate</td>\n",
              "      <td>48</td>\n",
              "      <td>domestic appliances</td>\n",
              "      <td>1</td>\n",
              "      <td>2679.802987</td>\n",
              "      <td>-17.286115</td>\n",
              "    </tr>\n",
              "    <tr>\n",
              "      <th>2</th>\n",
              "      <td>49</td>\n",
              "      <td>male</td>\n",
              "      <td>unskilled and resident</td>\n",
              "      <td>own</td>\n",
              "      <td>little</td>\n",
              "      <td>no</td>\n",
              "      <td>12</td>\n",
              "      <td>other</td>\n",
              "      <td>0</td>\n",
              "      <td>-1175.275798</td>\n",
              "      <td>14.428937</td>\n",
              "    </tr>\n",
              "    <tr>\n",
              "      <th>3</th>\n",
              "      <td>45</td>\n",
              "      <td>male</td>\n",
              "      <td>skilled</td>\n",
              "      <td>free</td>\n",
              "      <td>little</td>\n",
              "      <td>little</td>\n",
              "      <td>42</td>\n",
              "      <td>furniture/equipment</td>\n",
              "      <td>0</td>\n",
              "      <td>4610.783100</td>\n",
              "      <td>7.105541</td>\n",
              "    </tr>\n",
              "    <tr>\n",
              "      <th>4</th>\n",
              "      <td>53</td>\n",
              "      <td>male</td>\n",
              "      <td>skilled</td>\n",
              "      <td>free</td>\n",
              "      <td>little</td>\n",
              "      <td>little</td>\n",
              "      <td>24</td>\n",
              "      <td>car</td>\n",
              "      <td>1</td>\n",
              "      <td>1598.746858</td>\n",
              "      <td>17.169679</td>\n",
              "    </tr>\n",
              "  </tbody>\n",
              "</table>\n",
              "</div>\n",
              "      <button class=\"colab-df-convert\" onclick=\"convertToInteractive('df-222a7dcb-79d4-46fb-a8f9-3d6e8fc29245')\"\n",
              "              title=\"Convert this dataframe to an interactive table.\"\n",
              "              style=\"display:none;\">\n",
              "        \n",
              "  <svg xmlns=\"http://www.w3.org/2000/svg\" height=\"24px\"viewBox=\"0 0 24 24\"\n",
              "       width=\"24px\">\n",
              "    <path d=\"M0 0h24v24H0V0z\" fill=\"none\"/>\n",
              "    <path d=\"M18.56 5.44l.94 2.06.94-2.06 2.06-.94-2.06-.94-.94-2.06-.94 2.06-2.06.94zm-11 1L8.5 8.5l.94-2.06 2.06-.94-2.06-.94L8.5 2.5l-.94 2.06-2.06.94zm10 10l.94 2.06.94-2.06 2.06-.94-2.06-.94-.94-2.06-.94 2.06-2.06.94z\"/><path d=\"M17.41 7.96l-1.37-1.37c-.4-.4-.92-.59-1.43-.59-.52 0-1.04.2-1.43.59L10.3 9.45l-7.72 7.72c-.78.78-.78 2.05 0 2.83L4 21.41c.39.39.9.59 1.41.59.51 0 1.02-.2 1.41-.59l7.78-7.78 2.81-2.81c.8-.78.8-2.07 0-2.86zM5.41 20L4 18.59l7.72-7.72 1.47 1.35L5.41 20z\"/>\n",
              "  </svg>\n",
              "      </button>\n",
              "      \n",
              "  <style>\n",
              "    .colab-df-container {\n",
              "      display:flex;\n",
              "      flex-wrap:wrap;\n",
              "      gap: 12px;\n",
              "    }\n",
              "\n",
              "    .colab-df-convert {\n",
              "      background-color: #E8F0FE;\n",
              "      border: none;\n",
              "      border-radius: 50%;\n",
              "      cursor: pointer;\n",
              "      display: none;\n",
              "      fill: #1967D2;\n",
              "      height: 32px;\n",
              "      padding: 0 0 0 0;\n",
              "      width: 32px;\n",
              "    }\n",
              "\n",
              "    .colab-df-convert:hover {\n",
              "      background-color: #E2EBFA;\n",
              "      box-shadow: 0px 1px 2px rgba(60, 64, 67, 0.3), 0px 1px 3px 1px rgba(60, 64, 67, 0.15);\n",
              "      fill: #174EA6;\n",
              "    }\n",
              "\n",
              "    [theme=dark] .colab-df-convert {\n",
              "      background-color: #3B4455;\n",
              "      fill: #D2E3FC;\n",
              "    }\n",
              "\n",
              "    [theme=dark] .colab-df-convert:hover {\n",
              "      background-color: #434B5C;\n",
              "      box-shadow: 0px 1px 3px 1px rgba(0, 0, 0, 0.15);\n",
              "      filter: drop-shadow(0px 1px 2px rgba(0, 0, 0, 0.3));\n",
              "      fill: #FFFFFF;\n",
              "    }\n",
              "  </style>\n",
              "\n",
              "      <script>\n",
              "        const buttonEl =\n",
              "          document.querySelector('#df-222a7dcb-79d4-46fb-a8f9-3d6e8fc29245 button.colab-df-convert');\n",
              "        buttonEl.style.display =\n",
              "          google.colab.kernel.accessAllowed ? 'block' : 'none';\n",
              "\n",
              "        async function convertToInteractive(key) {\n",
              "          const element = document.querySelector('#df-222a7dcb-79d4-46fb-a8f9-3d6e8fc29245');\n",
              "          const dataTable =\n",
              "            await google.colab.kernel.invokeFunction('convertToInteractive',\n",
              "                                                     [key], {});\n",
              "          if (!dataTable) return;\n",
              "\n",
              "          const docLinkHtml = 'Like what you see? Visit the ' +\n",
              "            '<a target=\"_blank\" href=https://colab.research.google.com/notebooks/data_table.ipynb>data table notebook</a>'\n",
              "            + ' to learn more about interactive tables.';\n",
              "          element.innerHTML = '';\n",
              "          dataTable['output_type'] = 'display_data';\n",
              "          await google.colab.output.renderOutput(dataTable, element);\n",
              "          const docLink = document.createElement('div');\n",
              "          docLink.innerHTML = docLinkHtml;\n",
              "          element.appendChild(docLink);\n",
              "        }\n",
              "      </script>\n",
              "    </div>\n",
              "  </div>\n",
              "  "
            ],
            "text/plain": [
              "   age     sex                     job  ... default  component_1 component_2\n",
              "0   67    male                 skilled  ...       0 -2102.286132   32.889919\n",
              "1   22  female                 skilled  ...       1  2679.802987  -17.286115\n",
              "2   49    male  unskilled and resident  ...       0 -1175.275798   14.428937\n",
              "3   45    male                 skilled  ...       0  4610.783100    7.105541\n",
              "4   53    male                 skilled  ...       1  1598.746858   17.169679\n",
              "\n",
              "[5 rows x 11 columns]"
            ]
          },
          "metadata": {},
          "execution_count": 58
        }
      ]
    },
    {
      "cell_type": "markdown",
      "metadata": {
        "id": "pD5_MO37PALM"
      },
      "source": [
        "### Кодирование категориальных признаков"
      ]
    },
    {
      "cell_type": "code",
      "metadata": {
        "colab": {
          "base_uri": "https://localhost:8080/",
          "height": 305
        },
        "id": "Sxl8MQauMkfH",
        "outputId": "6f5a9ca1-e0a1-4572-9f71-cd4bdf751f12"
      },
      "source": [
        "df = pd.get_dummies(df, columns=['sex', 'job', 'housing', 'saving_accounts', 'checking_account', 'purpose'], drop_first=True)\n",
        "df.tail()"
      ],
      "execution_count": null,
      "outputs": [
        {
          "output_type": "execute_result",
          "data": {
            "text/html": [
              "\n",
              "  <div id=\"df-cfe7328f-5731-4b76-be74-5877993d8ae5\">\n",
              "    <div class=\"colab-df-container\">\n",
              "      <div>\n",
              "<style scoped>\n",
              "    .dataframe tbody tr th:only-of-type {\n",
              "        vertical-align: middle;\n",
              "    }\n",
              "\n",
              "    .dataframe tbody tr th {\n",
              "        vertical-align: top;\n",
              "    }\n",
              "\n",
              "    .dataframe thead th {\n",
              "        text-align: right;\n",
              "    }\n",
              "</style>\n",
              "<table border=\"1\" class=\"dataframe\">\n",
              "  <thead>\n",
              "    <tr style=\"text-align: right;\">\n",
              "      <th></th>\n",
              "      <th>age</th>\n",
              "      <th>duration</th>\n",
              "      <th>default</th>\n",
              "      <th>component_1</th>\n",
              "      <th>component_2</th>\n",
              "      <th>sex_male</th>\n",
              "      <th>job_skilled</th>\n",
              "      <th>job_unskilled and non-resident</th>\n",
              "      <th>job_unskilled and resident</th>\n",
              "      <th>housing_own</th>\n",
              "      <th>housing_rent</th>\n",
              "      <th>saving_accounts_moderate</th>\n",
              "      <th>saving_accounts_no</th>\n",
              "      <th>saving_accounts_quite rich</th>\n",
              "      <th>saving_accounts_rich</th>\n",
              "      <th>checking_account_moderate</th>\n",
              "      <th>checking_account_no</th>\n",
              "      <th>checking_account_rich</th>\n",
              "      <th>purpose_car</th>\n",
              "      <th>purpose_domestic appliances</th>\n",
              "      <th>purpose_furniture/equipment</th>\n",
              "      <th>purpose_other</th>\n",
              "    </tr>\n",
              "  </thead>\n",
              "  <tbody>\n",
              "    <tr>\n",
              "      <th>995</th>\n",
              "      <td>31</td>\n",
              "      <td>12</td>\n",
              "      <td>0</td>\n",
              "      <td>-1535.276885</td>\n",
              "      <td>-3.400128</td>\n",
              "      <td>0</td>\n",
              "      <td>0</td>\n",
              "      <td>0</td>\n",
              "      <td>1</td>\n",
              "      <td>1</td>\n",
              "      <td>0</td>\n",
              "      <td>0</td>\n",
              "      <td>0</td>\n",
              "      <td>0</td>\n",
              "      <td>0</td>\n",
              "      <td>0</td>\n",
              "      <td>1</td>\n",
              "      <td>0</td>\n",
              "      <td>0</td>\n",
              "      <td>0</td>\n",
              "      <td>1</td>\n",
              "      <td>0</td>\n",
              "    </tr>\n",
              "    <tr>\n",
              "      <th>996</th>\n",
              "      <td>40</td>\n",
              "      <td>30</td>\n",
              "      <td>0</td>\n",
              "      <td>585.764783</td>\n",
              "      <td>2.937707</td>\n",
              "      <td>1</td>\n",
              "      <td>0</td>\n",
              "      <td>0</td>\n",
              "      <td>0</td>\n",
              "      <td>1</td>\n",
              "      <td>0</td>\n",
              "      <td>0</td>\n",
              "      <td>0</td>\n",
              "      <td>0</td>\n",
              "      <td>0</td>\n",
              "      <td>0</td>\n",
              "      <td>0</td>\n",
              "      <td>0</td>\n",
              "      <td>1</td>\n",
              "      <td>0</td>\n",
              "      <td>0</td>\n",
              "      <td>0</td>\n",
              "    </tr>\n",
              "    <tr>\n",
              "      <th>997</th>\n",
              "      <td>38</td>\n",
              "      <td>12</td>\n",
              "      <td>0</td>\n",
              "      <td>-2467.272632</td>\n",
              "      <td>3.153201</td>\n",
              "      <td>1</td>\n",
              "      <td>1</td>\n",
              "      <td>0</td>\n",
              "      <td>0</td>\n",
              "      <td>1</td>\n",
              "      <td>0</td>\n",
              "      <td>0</td>\n",
              "      <td>0</td>\n",
              "      <td>0</td>\n",
              "      <td>0</td>\n",
              "      <td>0</td>\n",
              "      <td>1</td>\n",
              "      <td>0</td>\n",
              "      <td>0</td>\n",
              "      <td>1</td>\n",
              "      <td>0</td>\n",
              "      <td>0</td>\n",
              "    </tr>\n",
              "    <tr>\n",
              "      <th>998</th>\n",
              "      <td>23</td>\n",
              "      <td>45</td>\n",
              "      <td>1</td>\n",
              "      <td>-1426.190220</td>\n",
              "      <td>-17.214761</td>\n",
              "      <td>1</td>\n",
              "      <td>1</td>\n",
              "      <td>0</td>\n",
              "      <td>0</td>\n",
              "      <td>0</td>\n",
              "      <td>0</td>\n",
              "      <td>0</td>\n",
              "      <td>0</td>\n",
              "      <td>0</td>\n",
              "      <td>0</td>\n",
              "      <td>0</td>\n",
              "      <td>0</td>\n",
              "      <td>0</td>\n",
              "      <td>0</td>\n",
              "      <td>1</td>\n",
              "      <td>0</td>\n",
              "      <td>0</td>\n",
              "    </tr>\n",
              "    <tr>\n",
              "      <th>999</th>\n",
              "      <td>27</td>\n",
              "      <td>45</td>\n",
              "      <td>0</td>\n",
              "      <td>1304.800550</td>\n",
              "      <td>-12.312540</td>\n",
              "      <td>1</td>\n",
              "      <td>1</td>\n",
              "      <td>0</td>\n",
              "      <td>0</td>\n",
              "      <td>1</td>\n",
              "      <td>0</td>\n",
              "      <td>1</td>\n",
              "      <td>0</td>\n",
              "      <td>0</td>\n",
              "      <td>0</td>\n",
              "      <td>1</td>\n",
              "      <td>0</td>\n",
              "      <td>0</td>\n",
              "      <td>1</td>\n",
              "      <td>0</td>\n",
              "      <td>0</td>\n",
              "      <td>0</td>\n",
              "    </tr>\n",
              "  </tbody>\n",
              "</table>\n",
              "</div>\n",
              "      <button class=\"colab-df-convert\" onclick=\"convertToInteractive('df-cfe7328f-5731-4b76-be74-5877993d8ae5')\"\n",
              "              title=\"Convert this dataframe to an interactive table.\"\n",
              "              style=\"display:none;\">\n",
              "        \n",
              "  <svg xmlns=\"http://www.w3.org/2000/svg\" height=\"24px\"viewBox=\"0 0 24 24\"\n",
              "       width=\"24px\">\n",
              "    <path d=\"M0 0h24v24H0V0z\" fill=\"none\"/>\n",
              "    <path d=\"M18.56 5.44l.94 2.06.94-2.06 2.06-.94-2.06-.94-.94-2.06-.94 2.06-2.06.94zm-11 1L8.5 8.5l.94-2.06 2.06-.94-2.06-.94L8.5 2.5l-.94 2.06-2.06.94zm10 10l.94 2.06.94-2.06 2.06-.94-2.06-.94-.94-2.06-.94 2.06-2.06.94z\"/><path d=\"M17.41 7.96l-1.37-1.37c-.4-.4-.92-.59-1.43-.59-.52 0-1.04.2-1.43.59L10.3 9.45l-7.72 7.72c-.78.78-.78 2.05 0 2.83L4 21.41c.39.39.9.59 1.41.59.51 0 1.02-.2 1.41-.59l7.78-7.78 2.81-2.81c.8-.78.8-2.07 0-2.86zM5.41 20L4 18.59l7.72-7.72 1.47 1.35L5.41 20z\"/>\n",
              "  </svg>\n",
              "      </button>\n",
              "      \n",
              "  <style>\n",
              "    .colab-df-container {\n",
              "      display:flex;\n",
              "      flex-wrap:wrap;\n",
              "      gap: 12px;\n",
              "    }\n",
              "\n",
              "    .colab-df-convert {\n",
              "      background-color: #E8F0FE;\n",
              "      border: none;\n",
              "      border-radius: 50%;\n",
              "      cursor: pointer;\n",
              "      display: none;\n",
              "      fill: #1967D2;\n",
              "      height: 32px;\n",
              "      padding: 0 0 0 0;\n",
              "      width: 32px;\n",
              "    }\n",
              "\n",
              "    .colab-df-convert:hover {\n",
              "      background-color: #E2EBFA;\n",
              "      box-shadow: 0px 1px 2px rgba(60, 64, 67, 0.3), 0px 1px 3px 1px rgba(60, 64, 67, 0.15);\n",
              "      fill: #174EA6;\n",
              "    }\n",
              "\n",
              "    [theme=dark] .colab-df-convert {\n",
              "      background-color: #3B4455;\n",
              "      fill: #D2E3FC;\n",
              "    }\n",
              "\n",
              "    [theme=dark] .colab-df-convert:hover {\n",
              "      background-color: #434B5C;\n",
              "      box-shadow: 0px 1px 3px 1px rgba(0, 0, 0, 0.15);\n",
              "      filter: drop-shadow(0px 1px 2px rgba(0, 0, 0, 0.3));\n",
              "      fill: #FFFFFF;\n",
              "    }\n",
              "  </style>\n",
              "\n",
              "      <script>\n",
              "        const buttonEl =\n",
              "          document.querySelector('#df-cfe7328f-5731-4b76-be74-5877993d8ae5 button.colab-df-convert');\n",
              "        buttonEl.style.display =\n",
              "          google.colab.kernel.accessAllowed ? 'block' : 'none';\n",
              "\n",
              "        async function convertToInteractive(key) {\n",
              "          const element = document.querySelector('#df-cfe7328f-5731-4b76-be74-5877993d8ae5');\n",
              "          const dataTable =\n",
              "            await google.colab.kernel.invokeFunction('convertToInteractive',\n",
              "                                                     [key], {});\n",
              "          if (!dataTable) return;\n",
              "\n",
              "          const docLinkHtml = 'Like what you see? Visit the ' +\n",
              "            '<a target=\"_blank\" href=https://colab.research.google.com/notebooks/data_table.ipynb>data table notebook</a>'\n",
              "            + ' to learn more about interactive tables.';\n",
              "          element.innerHTML = '';\n",
              "          dataTable['output_type'] = 'display_data';\n",
              "          await google.colab.output.renderOutput(dataTable, element);\n",
              "          const docLink = document.createElement('div');\n",
              "          docLink.innerHTML = docLinkHtml;\n",
              "          element.appendChild(docLink);\n",
              "        }\n",
              "      </script>\n",
              "    </div>\n",
              "  </div>\n",
              "  "
            ],
            "text/plain": [
              "     age  duration  ...  purpose_furniture/equipment  purpose_other\n",
              "995   31        12  ...                            1              0\n",
              "996   40        30  ...                            0              0\n",
              "997   38        12  ...                            0              0\n",
              "998   23        45  ...                            0              0\n",
              "999   27        45  ...                            0              0\n",
              "\n",
              "[5 rows x 22 columns]"
            ]
          },
          "metadata": {},
          "execution_count": 59
        }
      ]
    },
    {
      "cell_type": "markdown",
      "metadata": {
        "id": "nF5EwBIcG49I"
      },
      "source": [
        "### Разбиение на train и test"
      ]
    },
    {
      "cell_type": "code",
      "metadata": {
        "id": "JoPWVzNpGBZ6"
      },
      "source": [
        "X = df.drop(columns='default')\n",
        "y = df['default']\n",
        "\n",
        "X_train, X_test, y_train, y_test = train_test_split(X, y, shuffle=True, test_size=0.3, random_state=21)"
      ],
      "execution_count": null,
      "outputs": []
    },
    {
      "cell_type": "markdown",
      "metadata": {
        "id": "F85m1BKZ-g0f"
      },
      "source": [
        "### Балансировка целевой переменной"
      ]
    },
    {
      "cell_type": "markdown",
      "metadata": {
        "id": "DzfoO7Hx-g0f"
      },
      "source": [
        "**Расчет весов для класса**"
      ]
    },
    {
      "cell_type": "code",
      "metadata": {
        "id": "nFAo69qY-g0f",
        "colab": {
          "base_uri": "https://localhost:8080/"
        },
        "outputId": "772ebe37-14c5-4f9c-e456-fb99348ab850"
      },
      "source": [
        "compute_class_weight(class_weight='balanced', classes=np.array([0, 1]), y=df['default'])"
      ],
      "execution_count": null,
      "outputs": [
        {
          "output_type": "execute_result",
          "data": {
            "text/plain": [
              "array([0.71428571, 1.66666667])"
            ]
          },
          "metadata": {},
          "execution_count": 61
        }
      ]
    },
    {
      "cell_type": "markdown",
      "metadata": {
        "id": "b-b3FvtP-g0g"
      },
      "source": [
        "## Базовая модель"
      ]
    },
    {
      "cell_type": "markdown",
      "source": [
        "### Деревья решений"
      ],
      "metadata": {
        "id": "CzwAHFw6_14u"
      }
    },
    {
      "cell_type": "markdown",
      "source": [
        "**Построение дерева**"
      ],
      "metadata": {
        "id": "a1Z6GTO5C73U"
      }
    },
    {
      "cell_type": "code",
      "source": [
        "tree_clf = DecisionTreeClassifier(class_weight={0:0.71428571, 1:1.66666667})\n",
        "tree_clf.fit(X_train, y_train)"
      ],
      "metadata": {
        "colab": {
          "base_uri": "https://localhost:8080/"
        },
        "id": "xs5BdFML_zWu",
        "outputId": "a3e238bb-097a-4a85-9c8b-2e258fa4c578"
      },
      "execution_count": null,
      "outputs": [
        {
          "output_type": "execute_result",
          "data": {
            "text/plain": [
              "DecisionTreeClassifier(class_weight={0: 0.71428571, 1: 1.66666667})"
            ]
          },
          "metadata": {},
          "execution_count": 62
        }
      ]
    },
    {
      "cell_type": "markdown",
      "source": [
        "**Визуализация дерева**"
      ],
      "metadata": {
        "id": "gKR-bpckDA0g"
      }
    },
    {
      "cell_type": "code",
      "source": [
        "dot_data = tree.export_graphviz(tree_clf, out_file=None, \n",
        "                                feature_names=X_train.columns, \n",
        "                                class_names=y_train.unique().astype(str),\n",
        "                                max_depth=3, \n",
        "                                filled=True)\n",
        "\n",
        "graph = graphviz.Source(dot_data, format=\"png\") \n",
        "graph"
      ],
      "metadata": {
        "colab": {
          "base_uri": "https://localhost:8080/",
          "height": 735
        },
        "id": "cr-ZKy5Q_zQg",
        "outputId": "67cc7229-128a-4854-88c8-8634c1c358b9"
      },
      "execution_count": null,
      "outputs": [
        {
          "output_type": "execute_result",
          "data": {
            "text/plain": [
              "<graphviz.files.Source at 0x7fafd8458f50>"
            ],
            "image/svg+xml": "<?xml version=\"1.0\" encoding=\"UTF-8\" standalone=\"no\"?>\n<!DOCTYPE svg PUBLIC \"-//W3C//DTD SVG 1.1//EN\"\n \"http://www.w3.org/Graphics/SVG/1.1/DTD/svg11.dtd\">\n<!-- Generated by graphviz version 2.40.1 (20161225.0304)\n -->\n<!-- Title: Tree Pages: 1 -->\n<svg width=\"1589pt\" height=\"520pt\"\n viewBox=\"0.00 0.00 1589.00 520.00\" xmlns=\"http://www.w3.org/2000/svg\" xmlns:xlink=\"http://www.w3.org/1999/xlink\">\n<g id=\"graph0\" class=\"graph\" transform=\"scale(1 1) rotate(0) translate(4 516)\">\n<title>Tree</title>\n<polygon fill=\"#ffffff\" stroke=\"transparent\" points=\"-4,4 -4,-516 1585,-516 1585,4 -4,4\"/>\n<!-- 0 -->\n<g id=\"node1\" class=\"node\">\n<title>0</title>\n<polygon fill=\"#fbfdfe\" stroke=\"#000000\" points=\"894,-512 690,-512 690,-429 894,-429 894,-512\"/>\n<text text-anchor=\"middle\" x=\"792\" y=\"-496.8\" font-family=\"Helvetica,sans-Serif\" font-size=\"14.00\" fill=\"#000000\">checking_account_no &lt;= 0.5</text>\n<text text-anchor=\"middle\" x=\"792\" y=\"-481.8\" font-family=\"Helvetica,sans-Serif\" font-size=\"14.00\" fill=\"#000000\">gini = 0.5</text>\n<text text-anchor=\"middle\" x=\"792\" y=\"-466.8\" font-family=\"Helvetica,sans-Serif\" font-size=\"14.00\" fill=\"#000000\">samples = 700</text>\n<text text-anchor=\"middle\" x=\"792\" y=\"-451.8\" font-family=\"Helvetica,sans-Serif\" font-size=\"14.00\" fill=\"#000000\">value = [347.857, 355.0]</text>\n<text text-anchor=\"middle\" x=\"792\" y=\"-436.8\" font-family=\"Helvetica,sans-Serif\" font-size=\"14.00\" fill=\"#000000\">class = 0</text>\n</g>\n<!-- 1 -->\n<g id=\"node2\" class=\"node\">\n<title>1</title>\n<polygon fill=\"#aad5f4\" stroke=\"#000000\" points=\"671.5,-393 482.5,-393 482.5,-310 671.5,-310 671.5,-393\"/>\n<text text-anchor=\"middle\" x=\"577\" y=\"-377.8\" font-family=\"Helvetica,sans-Serif\" font-size=\"14.00\" fill=\"#000000\">duration &lt;= 11.5</text>\n<text text-anchor=\"middle\" x=\"577\" y=\"-362.8\" font-family=\"Helvetica,sans-Serif\" font-size=\"14.00\" fill=\"#000000\">gini = 0.463</text>\n<text text-anchor=\"middle\" x=\"577\" y=\"-347.8\" font-family=\"Helvetica,sans-Serif\" font-size=\"14.00\" fill=\"#000000\">samples = 425</text>\n<text text-anchor=\"middle\" x=\"577\" y=\"-332.8\" font-family=\"Helvetica,sans-Serif\" font-size=\"14.00\" fill=\"#000000\">value = [173.571, 303.333]</text>\n<text text-anchor=\"middle\" x=\"577\" y=\"-317.8\" font-family=\"Helvetica,sans-Serif\" font-size=\"14.00\" fill=\"#000000\">class = 0</text>\n</g>\n<!-- 0&#45;&gt;1 -->\n<g id=\"edge1\" class=\"edge\">\n<title>0&#45;&gt;1</title>\n<path fill=\"none\" stroke=\"#000000\" d=\"M716.8034,-428.8796C698.8003,-418.915 679.4645,-408.2129 661.0881,-398.0418\"/>\n<polygon fill=\"#000000\" stroke=\"#000000\" points=\"662.5983,-394.8773 652.1541,-393.0969 659.2084,-401.0018 662.5983,-394.8773\"/>\n<text text-anchor=\"middle\" x=\"659.0601\" y=\"-413.4241\" font-family=\"Helvetica,sans-Serif\" font-size=\"14.00\" fill=\"#000000\">True</text>\n</g>\n<!-- 268 -->\n<g id=\"node17\" class=\"node\">\n<title>268</title>\n<polygon fill=\"#eda674\" stroke=\"#000000\" points=\"1098.5,-393 907.5,-393 907.5,-310 1098.5,-310 1098.5,-393\"/>\n<text text-anchor=\"middle\" x=\"1003\" y=\"-377.8\" font-family=\"Helvetica,sans-Serif\" font-size=\"14.00\" fill=\"#000000\">component_1 &lt;= 2621.257</text>\n<text text-anchor=\"middle\" x=\"1003\" y=\"-362.8\" font-family=\"Helvetica,sans-Serif\" font-size=\"14.00\" fill=\"#000000\">gini = 0.353</text>\n<text text-anchor=\"middle\" x=\"1003\" y=\"-347.8\" font-family=\"Helvetica,sans-Serif\" font-size=\"14.00\" fill=\"#000000\">samples = 275</text>\n<text text-anchor=\"middle\" x=\"1003\" y=\"-332.8\" font-family=\"Helvetica,sans-Serif\" font-size=\"14.00\" fill=\"#000000\">value = [174.286, 51.667]</text>\n<text text-anchor=\"middle\" x=\"1003\" y=\"-317.8\" font-family=\"Helvetica,sans-Serif\" font-size=\"14.00\" fill=\"#000000\">class = 1</text>\n</g>\n<!-- 0&#45;&gt;268 -->\n<g id=\"edge16\" class=\"edge\">\n<title>0&#45;&gt;268</title>\n<path fill=\"none\" stroke=\"#000000\" d=\"M865.7976,-428.8796C883.4658,-418.915 902.4418,-408.2129 920.4763,-398.0418\"/>\n<polygon fill=\"#000000\" stroke=\"#000000\" points=\"922.2532,-401.058 929.2441,-393.0969 918.8145,-394.9608 922.2532,-401.058\"/>\n<text text-anchor=\"middle\" x=\"922.5304\" y=\"-413.4786\" font-family=\"Helvetica,sans-Serif\" font-size=\"14.00\" fill=\"#000000\">False</text>\n</g>\n<!-- 2 -->\n<g id=\"node3\" class=\"node\">\n<title>2</title>\n<polygon fill=\"#f6d4bc\" stroke=\"#000000\" points=\"345.5,-274 178.5,-274 178.5,-191 345.5,-191 345.5,-274\"/>\n<text text-anchor=\"middle\" x=\"262\" y=\"-258.8\" font-family=\"Helvetica,sans-Serif\" font-size=\"14.00\" fill=\"#000000\">component_2 &lt;= 1.585</text>\n<text text-anchor=\"middle\" x=\"262\" y=\"-243.8\" font-family=\"Helvetica,sans-Serif\" font-size=\"14.00\" fill=\"#000000\">gini = 0.479</text>\n<text text-anchor=\"middle\" x=\"262\" y=\"-228.8\" font-family=\"Helvetica,sans-Serif\" font-size=\"14.00\" fill=\"#000000\">samples = 68</text>\n<text text-anchor=\"middle\" x=\"262\" y=\"-213.8\" font-family=\"Helvetica,sans-Serif\" font-size=\"14.00\" fill=\"#000000\">value = [37.857, 25.0]</text>\n<text text-anchor=\"middle\" x=\"262\" y=\"-198.8\" font-family=\"Helvetica,sans-Serif\" font-size=\"14.00\" fill=\"#000000\">class = 1</text>\n</g>\n<!-- 1&#45;&gt;2 -->\n<g id=\"edge2\" class=\"edge\">\n<title>1&#45;&gt;2</title>\n<path fill=\"none\" stroke=\"#000000\" d=\"M482.4896,-315.7961C442.2245,-300.5848 395.3834,-282.8893 355.2566,-267.7303\"/>\n<polygon fill=\"#000000\" stroke=\"#000000\" points=\"356.3337,-264.3958 345.7421,-264.1359 353.8599,-270.9441 356.3337,-264.3958\"/>\n</g>\n<!-- 41 -->\n<g id=\"node10\" class=\"node\">\n<title>41</title>\n<polygon fill=\"#9acdf2\" stroke=\"#000000\" points=\"672.5,-274 481.5,-274 481.5,-191 672.5,-191 672.5,-274\"/>\n<text text-anchor=\"middle\" x=\"577\" y=\"-258.8\" font-family=\"Helvetica,sans-Serif\" font-size=\"14.00\" fill=\"#000000\">component_1 &lt;= 4807.757</text>\n<text text-anchor=\"middle\" x=\"577\" y=\"-243.8\" font-family=\"Helvetica,sans-Serif\" font-size=\"14.00\" fill=\"#000000\">gini = 0.441</text>\n<text text-anchor=\"middle\" x=\"577\" y=\"-228.8\" font-family=\"Helvetica,sans-Serif\" font-size=\"14.00\" fill=\"#000000\">samples = 357</text>\n<text text-anchor=\"middle\" x=\"577\" y=\"-213.8\" font-family=\"Helvetica,sans-Serif\" font-size=\"14.00\" fill=\"#000000\">value = [135.714, 278.333]</text>\n<text text-anchor=\"middle\" x=\"577\" y=\"-198.8\" font-family=\"Helvetica,sans-Serif\" font-size=\"14.00\" fill=\"#000000\">class = 0</text>\n</g>\n<!-- 1&#45;&gt;41 -->\n<g id=\"edge9\" class=\"edge\">\n<title>1&#45;&gt;41</title>\n<path fill=\"none\" stroke=\"#000000\" d=\"M577,-309.8796C577,-301.6838 577,-292.9891 577,-284.5013\"/>\n<polygon fill=\"#000000\" stroke=\"#000000\" points=\"580.5001,-284.298 577,-274.2981 573.5001,-284.2981 580.5001,-284.298\"/>\n</g>\n<!-- 3 -->\n<g id=\"node4\" class=\"node\">\n<title>3</title>\n<polygon fill=\"#dcedfa\" stroke=\"#000000\" points=\"156,-155 0,-155 0,-72 156,-72 156,-155\"/>\n<text text-anchor=\"middle\" x=\"78\" y=\"-139.8\" font-family=\"Helvetica,sans-Serif\" font-size=\"14.00\" fill=\"#000000\">duration &lt;= 9.5</text>\n<text text-anchor=\"middle\" x=\"78\" y=\"-124.8\" font-family=\"Helvetica,sans-Serif\" font-size=\"14.00\" fill=\"#000000\">gini = 0.495</text>\n<text text-anchor=\"middle\" x=\"78\" y=\"-109.8\" font-family=\"Helvetica,sans-Serif\" font-size=\"14.00\" fill=\"#000000\">samples = 35</text>\n<text text-anchor=\"middle\" x=\"78\" y=\"-94.8\" font-family=\"Helvetica,sans-Serif\" font-size=\"14.00\" fill=\"#000000\">value = [16.429, 20.0]</text>\n<text text-anchor=\"middle\" x=\"78\" y=\"-79.8\" font-family=\"Helvetica,sans-Serif\" font-size=\"14.00\" fill=\"#000000\">class = 0</text>\n</g>\n<!-- 2&#45;&gt;3 -->\n<g id=\"edge3\" class=\"edge\">\n<title>2&#45;&gt;3</title>\n<path fill=\"none\" stroke=\"#000000\" d=\"M197.6457,-190.8796C182.5185,-181.0962 166.2919,-170.6019 150.8224,-160.5971\"/>\n<polygon fill=\"#000000\" stroke=\"#000000\" points=\"152.6156,-157.5887 142.3179,-155.0969 148.8141,-163.4665 152.6156,-157.5887\"/>\n</g>\n<!-- 30 -->\n<g id=\"node7\" class=\"node\">\n<title>30</title>\n<polygon fill=\"#eb9e67\" stroke=\"#000000\" points=\"349.5,-155 174.5,-155 174.5,-72 349.5,-72 349.5,-155\"/>\n<text text-anchor=\"middle\" x=\"262\" y=\"-139.8\" font-family=\"Helvetica,sans-Serif\" font-size=\"14.00\" fill=\"#000000\">component_2 &lt;= 38.017</text>\n<text text-anchor=\"middle\" x=\"262\" y=\"-124.8\" font-family=\"Helvetica,sans-Serif\" font-size=\"14.00\" fill=\"#000000\">gini = 0.307</text>\n<text text-anchor=\"middle\" x=\"262\" y=\"-109.8\" font-family=\"Helvetica,sans-Serif\" font-size=\"14.00\" fill=\"#000000\">samples = 33</text>\n<text text-anchor=\"middle\" x=\"262\" y=\"-94.8\" font-family=\"Helvetica,sans-Serif\" font-size=\"14.00\" fill=\"#000000\">value = [21.429, 5.0]</text>\n<text text-anchor=\"middle\" x=\"262\" y=\"-79.8\" font-family=\"Helvetica,sans-Serif\" font-size=\"14.00\" fill=\"#000000\">class = 1</text>\n</g>\n<!-- 2&#45;&gt;30 -->\n<g id=\"edge6\" class=\"edge\">\n<title>2&#45;&gt;30</title>\n<path fill=\"none\" stroke=\"#000000\" d=\"M262,-190.8796C262,-182.6838 262,-173.9891 262,-165.5013\"/>\n<polygon fill=\"#000000\" stroke=\"#000000\" points=\"265.5001,-165.298 262,-155.2981 258.5001,-165.2981 265.5001,-165.298\"/>\n</g>\n<!-- 4 -->\n<g id=\"node5\" class=\"node\">\n<title>4</title>\n<polygon fill=\"#c0c0c0\" stroke=\"#000000\" points=\"69,-36 15,-36 15,0 69,0 69,-36\"/>\n<text text-anchor=\"middle\" x=\"42\" y=\"-14.3\" font-family=\"Helvetica,sans-Serif\" font-size=\"14.00\" fill=\"#000000\">(...)</text>\n</g>\n<!-- 3&#45;&gt;4 -->\n<g id=\"edge4\" class=\"edge\">\n<title>3&#45;&gt;4</title>\n<path fill=\"none\" stroke=\"#000000\" d=\"M62.3146,-71.8901C58.9739,-63.0279 55.525,-53.8788 52.4386,-45.6913\"/>\n<polygon fill=\"#000000\" stroke=\"#000000\" points=\"55.6877,-44.3878 48.8853,-36.2651 49.1376,-46.8569 55.6877,-44.3878\"/>\n</g>\n<!-- 29 -->\n<g id=\"node6\" class=\"node\">\n<title>29</title>\n<polygon fill=\"#c0c0c0\" stroke=\"#000000\" points=\"141,-36 87,-36 87,0 141,0 141,-36\"/>\n<text text-anchor=\"middle\" x=\"114\" y=\"-14.3\" font-family=\"Helvetica,sans-Serif\" font-size=\"14.00\" fill=\"#000000\">(...)</text>\n</g>\n<!-- 3&#45;&gt;29 -->\n<g id=\"edge5\" class=\"edge\">\n<title>3&#45;&gt;29</title>\n<path fill=\"none\" stroke=\"#000000\" d=\"M93.6854,-71.8901C97.0261,-63.0279 100.475,-53.8788 103.5614,-45.6913\"/>\n<polygon fill=\"#000000\" stroke=\"#000000\" points=\"106.8624,-46.8569 107.1147,-36.2651 100.3123,-44.3878 106.8624,-46.8569\"/>\n</g>\n<!-- 31 -->\n<g id=\"node8\" class=\"node\">\n<title>31</title>\n<polygon fill=\"#c0c0c0\" stroke=\"#000000\" points=\"269,-36 215,-36 215,0 269,0 269,-36\"/>\n<text text-anchor=\"middle\" x=\"242\" y=\"-14.3\" font-family=\"Helvetica,sans-Serif\" font-size=\"14.00\" fill=\"#000000\">(...)</text>\n</g>\n<!-- 30&#45;&gt;31 -->\n<g id=\"edge7\" class=\"edge\">\n<title>30&#45;&gt;31</title>\n<path fill=\"none\" stroke=\"#000000\" d=\"M253.2859,-71.8901C251.4707,-63.2227 249.5981,-54.2808 247.9126,-46.2325\"/>\n<polygon fill=\"#000000\" stroke=\"#000000\" points=\"251.3007,-45.3353 245.8252,-36.2651 244.4493,-46.7702 251.3007,-45.3353\"/>\n</g>\n<!-- 38 -->\n<g id=\"node9\" class=\"node\">\n<title>38</title>\n<polygon fill=\"#c0c0c0\" stroke=\"#000000\" points=\"341,-36 287,-36 287,0 341,0 341,-36\"/>\n<text text-anchor=\"middle\" x=\"314\" y=\"-14.3\" font-family=\"Helvetica,sans-Serif\" font-size=\"14.00\" fill=\"#000000\">(...)</text>\n</g>\n<!-- 30&#45;&gt;38 -->\n<g id=\"edge8\" class=\"edge\">\n<title>30&#45;&gt;38</title>\n<path fill=\"none\" stroke=\"#000000\" d=\"M284.6567,-71.8901C289.5882,-62.8331 294.683,-53.4765 299.2152,-45.1528\"/>\n<polygon fill=\"#000000\" stroke=\"#000000\" points=\"302.3463,-46.7213 304.0546,-36.2651 296.1986,-43.3738 302.3463,-46.7213\"/>\n</g>\n<!-- 42 -->\n<g id=\"node11\" class=\"node\">\n<title>42</title>\n<polygon fill=\"#a6d3f3\" stroke=\"#000000\" points=\"570.5,-155 367.5,-155 367.5,-72 570.5,-72 570.5,-155\"/>\n<text text-anchor=\"middle\" x=\"469\" y=\"-139.8\" font-family=\"Helvetica,sans-Serif\" font-size=\"14.00\" fill=\"#000000\">saving_accounts_rich &lt;= 0.5</text>\n<text text-anchor=\"middle\" x=\"469\" y=\"-124.8\" font-family=\"Helvetica,sans-Serif\" font-size=\"14.00\" fill=\"#000000\">gini = 0.458</text>\n<text text-anchor=\"middle\" x=\"469\" y=\"-109.8\" font-family=\"Helvetica,sans-Serif\" font-size=\"14.00\" fill=\"#000000\">samples = 322</text>\n<text text-anchor=\"middle\" x=\"469\" y=\"-94.8\" font-family=\"Helvetica,sans-Serif\" font-size=\"14.00\" fill=\"#000000\">value = [129.286, 235.0]</text>\n<text text-anchor=\"middle\" x=\"469\" y=\"-79.8\" font-family=\"Helvetica,sans-Serif\" font-size=\"14.00\" fill=\"#000000\">class = 0</text>\n</g>\n<!-- 41&#45;&gt;42 -->\n<g id=\"edge10\" class=\"edge\">\n<title>41&#45;&gt;42</title>\n<path fill=\"none\" stroke=\"#000000\" d=\"M539.2268,-190.8796C530.9713,-181.7832 522.158,-172.0722 513.6626,-162.7116\"/>\n<polygon fill=\"#000000\" stroke=\"#000000\" points=\"516.2467,-160.3509 506.9344,-155.2981 511.0632,-165.0553 516.2467,-160.3509\"/>\n</g>\n<!-- 245 -->\n<g id=\"node14\" class=\"node\">\n<title>245</title>\n<polygon fill=\"#56ace9\" stroke=\"#000000\" points=\"784,-155 588,-155 588,-72 784,-72 784,-155\"/>\n<text text-anchor=\"middle\" x=\"686\" y=\"-139.8\" font-family=\"Helvetica,sans-Serif\" font-size=\"14.00\" fill=\"#000000\">saving_accounts_no &lt;= 0.5</text>\n<text text-anchor=\"middle\" x=\"686\" y=\"-124.8\" font-family=\"Helvetica,sans-Serif\" font-size=\"14.00\" fill=\"#000000\">gini = 0.225</text>\n<text text-anchor=\"middle\" x=\"686\" y=\"-109.8\" font-family=\"Helvetica,sans-Serif\" font-size=\"14.00\" fill=\"#000000\">samples = 35</text>\n<text text-anchor=\"middle\" x=\"686\" y=\"-94.8\" font-family=\"Helvetica,sans-Serif\" font-size=\"14.00\" fill=\"#000000\">value = [6.429, 43.333]</text>\n<text text-anchor=\"middle\" x=\"686\" y=\"-79.8\" font-family=\"Helvetica,sans-Serif\" font-size=\"14.00\" fill=\"#000000\">class = 0</text>\n</g>\n<!-- 41&#45;&gt;245 -->\n<g id=\"edge13\" class=\"edge\">\n<title>41&#45;&gt;245</title>\n<path fill=\"none\" stroke=\"#000000\" d=\"M615.1229,-190.8796C623.4549,-181.7832 632.3498,-172.0722 640.9239,-162.7116\"/>\n<polygon fill=\"#000000\" stroke=\"#000000\" points=\"643.5408,-165.0363 647.7144,-155.2981 638.3789,-160.3081 643.5408,-165.0363\"/>\n</g>\n<!-- 43 -->\n<g id=\"node12\" class=\"node\">\n<title>43</title>\n<polygon fill=\"#c0c0c0\" stroke=\"#000000\" points=\"444,-36 390,-36 390,0 444,0 444,-36\"/>\n<text text-anchor=\"middle\" x=\"417\" y=\"-14.3\" font-family=\"Helvetica,sans-Serif\" font-size=\"14.00\" fill=\"#000000\">(...)</text>\n</g>\n<!-- 42&#45;&gt;43 -->\n<g id=\"edge11\" class=\"edge\">\n<title>42&#45;&gt;43</title>\n<path fill=\"none\" stroke=\"#000000\" d=\"M446.3433,-71.8901C441.4118,-62.8331 436.317,-53.4765 431.7848,-45.1528\"/>\n<polygon fill=\"#000000\" stroke=\"#000000\" points=\"434.8014,-43.3738 426.9454,-36.2651 428.6537,-46.7213 434.8014,-43.3738\"/>\n</g>\n<!-- 240 -->\n<g id=\"node13\" class=\"node\">\n<title>240</title>\n<polygon fill=\"#c0c0c0\" stroke=\"#000000\" points=\"516,-36 462,-36 462,0 516,0 516,-36\"/>\n<text text-anchor=\"middle\" x=\"489\" y=\"-14.3\" font-family=\"Helvetica,sans-Serif\" font-size=\"14.00\" fill=\"#000000\">(...)</text>\n</g>\n<!-- 42&#45;&gt;240 -->\n<g id=\"edge12\" class=\"edge\">\n<title>42&#45;&gt;240</title>\n<path fill=\"none\" stroke=\"#000000\" d=\"M477.7141,-71.8901C479.5293,-63.2227 481.4019,-54.2808 483.0874,-46.2325\"/>\n<polygon fill=\"#000000\" stroke=\"#000000\" points=\"486.5507,-46.7702 485.1748,-36.2651 479.6993,-45.3353 486.5507,-46.7702\"/>\n</g>\n<!-- 246 -->\n<g id=\"node15\" class=\"node\">\n<title>246</title>\n<polygon fill=\"#c0c0c0\" stroke=\"#000000\" points=\"676,-36 622,-36 622,0 676,0 676,-36\"/>\n<text text-anchor=\"middle\" x=\"649\" y=\"-14.3\" font-family=\"Helvetica,sans-Serif\" font-size=\"14.00\" fill=\"#000000\">(...)</text>\n</g>\n<!-- 245&#45;&gt;246 -->\n<g id=\"edge14\" class=\"edge\">\n<title>245&#45;&gt;246</title>\n<path fill=\"none\" stroke=\"#000000\" d=\"M669.8789,-71.8901C666.4454,-63.0279 662.9007,-53.8788 659.7285,-45.6913\"/>\n<polygon fill=\"#000000\" stroke=\"#000000\" points=\"662.9529,-44.3253 656.0765,-36.2651 656.4257,-46.8542 662.9529,-44.3253\"/>\n</g>\n<!-- 263 -->\n<g id=\"node16\" class=\"node\">\n<title>263</title>\n<polygon fill=\"#c0c0c0\" stroke=\"#000000\" points=\"748,-36 694,-36 694,0 748,0 748,-36\"/>\n<text text-anchor=\"middle\" x=\"721\" y=\"-14.3\" font-family=\"Helvetica,sans-Serif\" font-size=\"14.00\" fill=\"#000000\">(...)</text>\n</g>\n<!-- 245&#45;&gt;263 -->\n<g id=\"edge15\" class=\"edge\">\n<title>245&#45;&gt;263</title>\n<path fill=\"none\" stroke=\"#000000\" d=\"M701.2497,-71.8901C704.4976,-63.0279 707.8507,-53.8788 710.8514,-45.6913\"/>\n<polygon fill=\"#000000\" stroke=\"#000000\" points=\"714.1511,-46.8588 714.306,-36.2651 707.5786,-44.45 714.1511,-46.8588\"/>\n</g>\n<!-- 269 -->\n<g id=\"node18\" class=\"node\">\n<title>269</title>\n<polygon fill=\"#ea9b61\" stroke=\"#000000\" points=\"1093.5,-274 912.5,-274 912.5,-191 1093.5,-191 1093.5,-274\"/>\n<text text-anchor=\"middle\" x=\"1003\" y=\"-258.8\" font-family=\"Helvetica,sans-Serif\" font-size=\"14.00\" fill=\"#000000\">component_2 &lt;= &#45;11.78</text>\n<text text-anchor=\"middle\" x=\"1003\" y=\"-243.8\" font-family=\"Helvetica,sans-Serif\" font-size=\"14.00\" fill=\"#000000\">gini = 0.281</text>\n<text text-anchor=\"middle\" x=\"1003\" y=\"-228.8\" font-family=\"Helvetica,sans-Serif\" font-size=\"14.00\" fill=\"#000000\">samples = 237</text>\n<text text-anchor=\"middle\" x=\"1003\" y=\"-213.8\" font-family=\"Helvetica,sans-Serif\" font-size=\"14.00\" fill=\"#000000\">value = [155.714, 31.667]</text>\n<text text-anchor=\"middle\" x=\"1003\" y=\"-198.8\" font-family=\"Helvetica,sans-Serif\" font-size=\"14.00\" fill=\"#000000\">class = 1</text>\n</g>\n<!-- 268&#45;&gt;269 -->\n<g id=\"edge17\" class=\"edge\">\n<title>268&#45;&gt;269</title>\n<path fill=\"none\" stroke=\"#000000\" d=\"M1003,-309.8796C1003,-301.6838 1003,-292.9891 1003,-284.5013\"/>\n<polygon fill=\"#000000\" stroke=\"#000000\" points=\"1006.5001,-284.298 1003,-274.2981 999.5001,-284.2981 1006.5001,-284.298\"/>\n</g>\n<!-- 346 -->\n<g id=\"node25\" class=\"node\">\n<title>346</title>\n<polygon fill=\"#f1f8fd\" stroke=\"#000000\" points=\"1389,-274 1233,-274 1233,-191 1389,-191 1389,-274\"/>\n<text text-anchor=\"middle\" x=\"1311\" y=\"-258.8\" font-family=\"Helvetica,sans-Serif\" font-size=\"14.00\" fill=\"#000000\">age &lt;= 28.0</text>\n<text text-anchor=\"middle\" x=\"1311\" y=\"-243.8\" font-family=\"Helvetica,sans-Serif\" font-size=\"14.00\" fill=\"#000000\">gini = 0.499</text>\n<text text-anchor=\"middle\" x=\"1311\" y=\"-228.8\" font-family=\"Helvetica,sans-Serif\" font-size=\"14.00\" fill=\"#000000\">samples = 38</text>\n<text text-anchor=\"middle\" x=\"1311\" y=\"-213.8\" font-family=\"Helvetica,sans-Serif\" font-size=\"14.00\" fill=\"#000000\">value = [18.571, 20.0]</text>\n<text text-anchor=\"middle\" x=\"1311\" y=\"-198.8\" font-family=\"Helvetica,sans-Serif\" font-size=\"14.00\" fill=\"#000000\">class = 0</text>\n</g>\n<!-- 268&#45;&gt;346 -->\n<g id=\"edge24\" class=\"edge\">\n<title>268&#45;&gt;346</title>\n<path fill=\"none\" stroke=\"#000000\" d=\"M1098.7648,-314.5C1138.4865,-299.1529 1184.2702,-281.4638 1223.1226,-266.4526\"/>\n<polygon fill=\"#000000\" stroke=\"#000000\" points=\"1224.7765,-269.5658 1232.8431,-262.697 1222.2537,-263.0363 1224.7765,-269.5658\"/>\n</g>\n<!-- 270 -->\n<g id=\"node19\" class=\"node\">\n<title>270</title>\n<polygon fill=\"#d5eaf9\" stroke=\"#000000\" points=\"998,-155 802,-155 802,-72 998,-72 998,-155\"/>\n<text text-anchor=\"middle\" x=\"900\" y=\"-139.8\" font-family=\"Helvetica,sans-Serif\" font-size=\"14.00\" fill=\"#000000\">saving_accounts_no &lt;= 0.5</text>\n<text text-anchor=\"middle\" x=\"900\" y=\"-124.8\" font-family=\"Helvetica,sans-Serif\" font-size=\"14.00\" fill=\"#000000\">gini = 0.493</text>\n<text text-anchor=\"middle\" x=\"900\" y=\"-109.8\" font-family=\"Helvetica,sans-Serif\" font-size=\"14.00\" fill=\"#000000\">samples = 17</text>\n<text text-anchor=\"middle\" x=\"900\" y=\"-94.8\" font-family=\"Helvetica,sans-Serif\" font-size=\"14.00\" fill=\"#000000\">value = [7.857, 10.0]</text>\n<text text-anchor=\"middle\" x=\"900\" y=\"-79.8\" font-family=\"Helvetica,sans-Serif\" font-size=\"14.00\" fill=\"#000000\">class = 0</text>\n</g>\n<!-- 269&#45;&gt;270 -->\n<g id=\"edge18\" class=\"edge\">\n<title>269&#45;&gt;270</title>\n<path fill=\"none\" stroke=\"#000000\" d=\"M966.9756,-190.8796C959.1802,-181.8733 950.8633,-172.2644 942.8356,-162.9897\"/>\n<polygon fill=\"#000000\" stroke=\"#000000\" points=\"945.3691,-160.5686 936.1782,-155.2981 940.0763,-165.1498 945.3691,-160.5686\"/>\n</g>\n<!-- 285 -->\n<g id=\"node22\" class=\"node\">\n<title>285</title>\n<polygon fill=\"#e99356\" stroke=\"#000000\" points=\"1197.5,-155 1016.5,-155 1016.5,-72 1197.5,-72 1197.5,-155\"/>\n<text text-anchor=\"middle\" x=\"1107\" y=\"-139.8\" font-family=\"Helvetica,sans-Serif\" font-size=\"14.00\" fill=\"#000000\">duration &lt;= 42.0</text>\n<text text-anchor=\"middle\" x=\"1107\" y=\"-124.8\" font-family=\"Helvetica,sans-Serif\" font-size=\"14.00\" fill=\"#000000\">gini = 0.223</text>\n<text text-anchor=\"middle\" x=\"1107\" y=\"-109.8\" font-family=\"Helvetica,sans-Serif\" font-size=\"14.00\" fill=\"#000000\">samples = 220</text>\n<text text-anchor=\"middle\" x=\"1107\" y=\"-94.8\" font-family=\"Helvetica,sans-Serif\" font-size=\"14.00\" fill=\"#000000\">value = [147.857, 21.667]</text>\n<text text-anchor=\"middle\" x=\"1107\" y=\"-79.8\" font-family=\"Helvetica,sans-Serif\" font-size=\"14.00\" fill=\"#000000\">class = 1</text>\n</g>\n<!-- 269&#45;&gt;285 -->\n<g id=\"edge21\" class=\"edge\">\n<title>269&#45;&gt;285</title>\n<path fill=\"none\" stroke=\"#000000\" d=\"M1039.3742,-190.8796C1047.2452,-181.8733 1055.6429,-172.2644 1063.7485,-162.9897\"/>\n<polygon fill=\"#000000\" stroke=\"#000000\" points=\"1066.5254,-165.131 1070.4706,-155.2981 1061.2546,-160.5246 1066.5254,-165.131\"/>\n</g>\n<!-- 271 -->\n<g id=\"node20\" class=\"node\">\n<title>271</title>\n<polygon fill=\"#c0c0c0\" stroke=\"#000000\" points=\"886,-36 832,-36 832,0 886,0 886,-36\"/>\n<text text-anchor=\"middle\" x=\"859\" y=\"-14.3\" font-family=\"Helvetica,sans-Serif\" font-size=\"14.00\" fill=\"#000000\">(...)</text>\n</g>\n<!-- 270&#45;&gt;271 -->\n<g id=\"edge19\" class=\"edge\">\n<title>270&#45;&gt;271</title>\n<path fill=\"none\" stroke=\"#000000\" d=\"M882.1361,-71.8901C878.3314,-63.0279 874.4035,-53.8788 870.8884,-45.6913\"/>\n<polygon fill=\"#000000\" stroke=\"#000000\" points=\"874.0028,-44.0733 866.8416,-36.2651 867.5705,-46.8348 874.0028,-44.0733\"/>\n</g>\n<!-- 284 -->\n<g id=\"node21\" class=\"node\">\n<title>284</title>\n<polygon fill=\"#c0c0c0\" stroke=\"#000000\" points=\"958,-36 904,-36 904,0 958,0 958,-36\"/>\n<text text-anchor=\"middle\" x=\"931\" y=\"-14.3\" font-family=\"Helvetica,sans-Serif\" font-size=\"14.00\" fill=\"#000000\">(...)</text>\n</g>\n<!-- 270&#45;&gt;284 -->\n<g id=\"edge20\" class=\"edge\">\n<title>270&#45;&gt;284</title>\n<path fill=\"none\" stroke=\"#000000\" d=\"M913.5069,-71.8901C916.352,-63.1253 919.2882,-54.0798 921.9235,-45.9615\"/>\n<polygon fill=\"#000000\" stroke=\"#000000\" points=\"925.3125,-46.8572 925.071,-36.2651 918.6545,-44.6959 925.3125,-46.8572\"/>\n</g>\n<!-- 286 -->\n<g id=\"node23\" class=\"node\">\n<title>286</title>\n<polygon fill=\"#c0c0c0\" stroke=\"#000000\" points=\"1092,-36 1038,-36 1038,0 1092,0 1092,-36\"/>\n<text text-anchor=\"middle\" x=\"1065\" y=\"-14.3\" font-family=\"Helvetica,sans-Serif\" font-size=\"14.00\" fill=\"#000000\">(...)</text>\n</g>\n<!-- 285&#45;&gt;286 -->\n<g id=\"edge22\" class=\"edge\">\n<title>285&#45;&gt;286</title>\n<path fill=\"none\" stroke=\"#000000\" d=\"M1088.7004,-71.8901C1084.76,-62.9305 1080.6907,-53.6777 1077.0598,-45.4217\"/>\n<polygon fill=\"#000000\" stroke=\"#000000\" points=\"1080.2625,-44.0099 1073.0328,-36.2651 1073.8548,-46.828 1080.2625,-44.0099\"/>\n</g>\n<!-- 341 -->\n<g id=\"node24\" class=\"node\">\n<title>341</title>\n<polygon fill=\"#c0c0c0\" stroke=\"#000000\" points=\"1164,-36 1110,-36 1110,0 1164,0 1164,-36\"/>\n<text text-anchor=\"middle\" x=\"1137\" y=\"-14.3\" font-family=\"Helvetica,sans-Serif\" font-size=\"14.00\" fill=\"#000000\">(...)</text>\n</g>\n<!-- 285&#45;&gt;341 -->\n<g id=\"edge23\" class=\"edge\">\n<title>285&#45;&gt;341</title>\n<path fill=\"none\" stroke=\"#000000\" d=\"M1120.0712,-71.8901C1122.8245,-63.1253 1125.666,-54.0798 1128.2163,-45.9615\"/>\n<polygon fill=\"#000000\" stroke=\"#000000\" points=\"1131.6044,-46.8544 1131.2623,-36.2651 1124.9261,-44.7565 1131.6044,-46.8544\"/>\n</g>\n<!-- 347 -->\n<g id=\"node26\" class=\"node\">\n<title>347</title>\n<polygon fill=\"#47a4e7\" stroke=\"#000000\" points=\"1406.5,-155 1215.5,-155 1215.5,-72 1406.5,-72 1406.5,-155\"/>\n<text text-anchor=\"middle\" x=\"1311\" y=\"-139.8\" font-family=\"Helvetica,sans-Serif\" font-size=\"14.00\" fill=\"#000000\">component_1 &lt;= 3449.253</text>\n<text text-anchor=\"middle\" x=\"1311\" y=\"-124.8\" font-family=\"Helvetica,sans-Serif\" font-size=\"14.00\" fill=\"#000000\">gini = 0.124</text>\n<text text-anchor=\"middle\" x=\"1311\" y=\"-109.8\" font-family=\"Helvetica,sans-Serif\" font-size=\"14.00\" fill=\"#000000\">samples = 7</text>\n<text text-anchor=\"middle\" x=\"1311\" y=\"-94.8\" font-family=\"Helvetica,sans-Serif\" font-size=\"14.00\" fill=\"#000000\">value = [0.714, 10.0]</text>\n<text text-anchor=\"middle\" x=\"1311\" y=\"-79.8\" font-family=\"Helvetica,sans-Serif\" font-size=\"14.00\" fill=\"#000000\">class = 0</text>\n</g>\n<!-- 346&#45;&gt;347 -->\n<g id=\"edge25\" class=\"edge\">\n<title>346&#45;&gt;347</title>\n<path fill=\"none\" stroke=\"#000000\" d=\"M1311,-190.8796C1311,-182.6838 1311,-173.9891 1311,-165.5013\"/>\n<polygon fill=\"#000000\" stroke=\"#000000\" points=\"1314.5001,-165.298 1311,-155.2981 1307.5001,-165.2981 1314.5001,-165.298\"/>\n</g>\n<!-- 350 -->\n<g id=\"node29\" class=\"node\">\n<title>350</title>\n<polygon fill=\"#f4c8a8\" stroke=\"#000000\" points=\"1581,-155 1425,-155 1425,-72 1581,-72 1581,-155\"/>\n<text text-anchor=\"middle\" x=\"1503\" y=\"-139.8\" font-family=\"Helvetica,sans-Serif\" font-size=\"14.00\" fill=\"#000000\">duration &lt;= 31.5</text>\n<text text-anchor=\"middle\" x=\"1503\" y=\"-124.8\" font-family=\"Helvetica,sans-Serif\" font-size=\"14.00\" fill=\"#000000\">gini = 0.46</text>\n<text text-anchor=\"middle\" x=\"1503\" y=\"-109.8\" font-family=\"Helvetica,sans-Serif\" font-size=\"14.00\" fill=\"#000000\">samples = 31</text>\n<text text-anchor=\"middle\" x=\"1503\" y=\"-94.8\" font-family=\"Helvetica,sans-Serif\" font-size=\"14.00\" fill=\"#000000\">value = [17.857, 10.0]</text>\n<text text-anchor=\"middle\" x=\"1503\" y=\"-79.8\" font-family=\"Helvetica,sans-Serif\" font-size=\"14.00\" fill=\"#000000\">class = 1</text>\n</g>\n<!-- 346&#45;&gt;350 -->\n<g id=\"edge28\" class=\"edge\">\n<title>346&#45;&gt;350</title>\n<path fill=\"none\" stroke=\"#000000\" d=\"M1378.1523,-190.8796C1393.9372,-181.0962 1410.8693,-170.6019 1427.0114,-160.5971\"/>\n<polygon fill=\"#000000\" stroke=\"#000000\" points=\"1429.2297,-163.34 1435.8856,-155.0969 1425.5419,-157.3901 1429.2297,-163.34\"/>\n</g>\n<!-- 348 -->\n<g id=\"node27\" class=\"node\">\n<title>348</title>\n<polygon fill=\"#c0c0c0\" stroke=\"#000000\" points=\"1302,-36 1248,-36 1248,0 1302,0 1302,-36\"/>\n<text text-anchor=\"middle\" x=\"1275\" y=\"-14.3\" font-family=\"Helvetica,sans-Serif\" font-size=\"14.00\" fill=\"#000000\">(...)</text>\n</g>\n<!-- 347&#45;&gt;348 -->\n<g id=\"edge26\" class=\"edge\">\n<title>347&#45;&gt;348</title>\n<path fill=\"none\" stroke=\"#000000\" d=\"M1295.3146,-71.8901C1291.9739,-63.0279 1288.525,-53.8788 1285.4386,-45.6913\"/>\n<polygon fill=\"#000000\" stroke=\"#000000\" points=\"1288.6877,-44.3878 1281.8853,-36.2651 1282.1376,-46.8569 1288.6877,-44.3878\"/>\n</g>\n<!-- 349 -->\n<g id=\"node28\" class=\"node\">\n<title>349</title>\n<polygon fill=\"#c0c0c0\" stroke=\"#000000\" points=\"1374,-36 1320,-36 1320,0 1374,0 1374,-36\"/>\n<text text-anchor=\"middle\" x=\"1347\" y=\"-14.3\" font-family=\"Helvetica,sans-Serif\" font-size=\"14.00\" fill=\"#000000\">(...)</text>\n</g>\n<!-- 347&#45;&gt;349 -->\n<g id=\"edge27\" class=\"edge\">\n<title>347&#45;&gt;349</title>\n<path fill=\"none\" stroke=\"#000000\" d=\"M1326.6854,-71.8901C1330.0261,-63.0279 1333.475,-53.8788 1336.5614,-45.6913\"/>\n<polygon fill=\"#000000\" stroke=\"#000000\" points=\"1339.8624,-46.8569 1340.1147,-36.2651 1333.3123,-44.3878 1339.8624,-46.8569\"/>\n</g>\n<!-- 351 -->\n<g id=\"node30\" class=\"node\">\n<title>351</title>\n<polygon fill=\"#c0c0c0\" stroke=\"#000000\" points=\"1494,-36 1440,-36 1440,0 1494,0 1494,-36\"/>\n<text text-anchor=\"middle\" x=\"1467\" y=\"-14.3\" font-family=\"Helvetica,sans-Serif\" font-size=\"14.00\" fill=\"#000000\">(...)</text>\n</g>\n<!-- 350&#45;&gt;351 -->\n<g id=\"edge29\" class=\"edge\">\n<title>350&#45;&gt;351</title>\n<path fill=\"none\" stroke=\"#000000\" d=\"M1487.3146,-71.8901C1483.9739,-63.0279 1480.525,-53.8788 1477.4386,-45.6913\"/>\n<polygon fill=\"#000000\" stroke=\"#000000\" points=\"1480.6877,-44.3878 1473.8853,-36.2651 1474.1376,-46.8569 1480.6877,-44.3878\"/>\n</g>\n<!-- 358 -->\n<g id=\"node31\" class=\"node\">\n<title>358</title>\n<polygon fill=\"#c0c0c0\" stroke=\"#000000\" points=\"1566,-36 1512,-36 1512,0 1566,0 1566,-36\"/>\n<text text-anchor=\"middle\" x=\"1539\" y=\"-14.3\" font-family=\"Helvetica,sans-Serif\" font-size=\"14.00\" fill=\"#000000\">(...)</text>\n</g>\n<!-- 350&#45;&gt;358 -->\n<g id=\"edge30\" class=\"edge\">\n<title>350&#45;&gt;358</title>\n<path fill=\"none\" stroke=\"#000000\" d=\"M1518.6854,-71.8901C1522.0261,-63.0279 1525.475,-53.8788 1528.5614,-45.6913\"/>\n<polygon fill=\"#000000\" stroke=\"#000000\" points=\"1531.8624,-46.8569 1532.1147,-36.2651 1525.3123,-44.3878 1531.8624,-46.8569\"/>\n</g>\n</g>\n</svg>\n"
          },
          "metadata": {},
          "execution_count": 63
        }
      ]
    },
    {
      "cell_type": "markdown",
      "source": [
        "**Важность признаков**"
      ],
      "metadata": {
        "id": "bZGpObchDFGP"
      }
    },
    {
      "cell_type": "code",
      "source": [
        "show_feature_importances(X_train.columns, tree_clf.feature_importances_)"
      ],
      "metadata": {
        "colab": {
          "base_uri": "https://localhost:8080/",
          "height": 544
        },
        "id": "LdOApf0Bj9D5",
        "outputId": "e8fca880-b04f-493c-8a42-63d4201c034a"
      },
      "execution_count": null,
      "outputs": [
        {
          "output_type": "stream",
          "name": "stderr",
          "text": [
            "/usr/local/lib/python3.7/dist-packages/seaborn/_decorators.py:43: FutureWarning: Pass the following variables as keyword args: x, y. From version 0.12, the only valid positional argument will be `data`, and passing other arguments without an explicit keyword will result in an error or misinterpretation.\n",
            "  FutureWarning\n"
          ]
        },
        {
          "output_type": "display_data",
          "data": {
            "image/png": "[encoded data removed]",
            "text/plain": [
              "<Figure size 1440x536.76 with 1 Axes>"
            ]
          },
          "metadata": {}
        }
      ]
    },
    {
      "cell_type": "markdown",
      "source": [
        "**Оценка качества**"
      ],
      "metadata": {
        "id": "-xtj26nSDIxn"
      }
    },
    {
      "cell_type": "code",
      "source": [
        "y_test_pred = tree_clf.predict(X_test)"
      ],
      "metadata": {
        "id": "tFX3MYjNCJti"
      },
      "execution_count": null,
      "outputs": []
    },
    {
      "cell_type": "code",
      "source": [
        "print(metrics.classification_report(y_test, y_test_pred))"
      ],
      "metadata": {
        "colab": {
          "base_uri": "https://localhost:8080/"
        },
        "id": "f5Y2RgRVCJqj",
        "outputId": "7a35e4d1-9a6d-4657-cce5-9de9fcbcba6a"
      },
      "execution_count": null,
      "outputs": [
        {
          "output_type": "stream",
          "name": "stdout",
          "text": [
            "              precision    recall  f1-score   support\n",
            "\n",
            "           0       0.79      0.76      0.78       213\n",
            "           1       0.47      0.52      0.49        87\n",
            "\n",
            "    accuracy                           0.69       300\n",
            "   macro avg       0.63      0.64      0.63       300\n",
            "weighted avg       0.70      0.69      0.69       300\n",
            "\n"
          ]
        }
      ]
    },
    {
      "cell_type": "markdown",
      "source": [
        "### Случайный лес"
      ],
      "metadata": {
        "id": "USSx6rfuCjBV"
      }
    },
    {
      "cell_type": "markdown",
      "metadata": {
        "id": "hHPKnf__oocR"
      },
      "source": [
        "**Обучение алгоритма**"
      ]
    },
    {
      "cell_type": "code",
      "metadata": {
        "colab": {
          "base_uri": "https://localhost:8080/"
        },
        "id": "5Db8N0-PoSo8",
        "outputId": "311614db-fcb5-4c61-a2ce-a7fb113cd2f7"
      },
      "source": [
        "random_forest_clf = RandomForestClassifier(class_weight={0: 0.71428571, 1: 1.66666667})\n",
        "random_forest_clf.fit(X_train, y_train)"
      ],
      "execution_count": null,
      "outputs": [
        {
          "output_type": "execute_result",
          "data": {
            "text/plain": [
              "RandomForestClassifier(class_weight={0: 0.71428571, 1: 1.66666667})"
            ]
          },
          "metadata": {},
          "execution_count": 67
        }
      ]
    },
    {
      "cell_type": "markdown",
      "metadata": {
        "id": "nPI8ekMyovO4"
      },
      "source": [
        "**Оценка качества**"
      ]
    },
    {
      "cell_type": "code",
      "metadata": {
        "id": "_FyTWsGso0OI"
      },
      "source": [
        "y_test_pred = random_forest_clf.predict(X_test)"
      ],
      "execution_count": null,
      "outputs": []
    },
    {
      "cell_type": "code",
      "metadata": {
        "colab": {
          "base_uri": "https://localhost:8080/"
        },
        "id": "2VFjtjWupLqe",
        "outputId": "4b690bbb-9c64-43aa-94ec-27e07825027b"
      },
      "source": [
        "print(metrics.classification_report(y_test, y_test_pred))"
      ],
      "execution_count": null,
      "outputs": [
        {
          "output_type": "stream",
          "name": "stdout",
          "text": [
            "              precision    recall  f1-score   support\n",
            "\n",
            "           0       0.78      0.92      0.84       213\n",
            "           1       0.63      0.36      0.46        87\n",
            "\n",
            "    accuracy                           0.75       300\n",
            "   macro avg       0.70      0.64      0.65       300\n",
            "weighted avg       0.74      0.75      0.73       300\n",
            "\n"
          ]
        }
      ]
    },
    {
      "cell_type": "markdown",
      "metadata": {
        "id": "je1seDEioPFT"
      },
      "source": [
        "### Градиентный бустинг"
      ]
    },
    {
      "cell_type": "markdown",
      "metadata": {
        "id": "npRVXk7Eo0oo"
      },
      "source": [
        "**Обучение алгоритма**"
      ]
    },
    {
      "cell_type": "code",
      "metadata": {
        "colab": {
          "base_uri": "https://localhost:8080/"
        },
        "id": "gemetKIFoCUL",
        "outputId": "f7db5845-4c2b-4ff1-d57b-aec804407cea"
      },
      "source": [
        "boostig_clf = GradientBoostingClassifier(subsample=0.7)\n",
        "boostig_clf.fit(X_train, y_train)"
      ],
      "execution_count": null,
      "outputs": [
        {
          "output_type": "execute_result",
          "data": {
            "text/plain": [
              "GradientBoostingClassifier(subsample=0.7)"
            ]
          },
          "metadata": {},
          "execution_count": 75
        }
      ]
    },
    {
      "cell_type": "markdown",
      "metadata": {
        "id": "K8qw0UPVo20C"
      },
      "source": [
        "**Оценка качества**"
      ]
    },
    {
      "cell_type": "code",
      "metadata": {
        "id": "w9lMAnlDo47_"
      },
      "source": [
        "y_test_pred = boostig_clf.predict(X_test)"
      ],
      "execution_count": null,
      "outputs": []
    },
    {
      "cell_type": "code",
      "metadata": {
        "colab": {
          "base_uri": "https://localhost:8080/"
        },
        "id": "ELbSqk1xpYj4",
        "outputId": "cf86e6a6-fd13-4c9f-869a-9254ba957751"
      },
      "source": [
        "print(metrics.classification_report(y_test, y_test_pred))"
      ],
      "execution_count": null,
      "outputs": [
        {
          "output_type": "stream",
          "name": "stdout",
          "text": [
            "              precision    recall  f1-score   support\n",
            "\n",
            "           0       0.77      0.86      0.82       213\n",
            "           1       0.53      0.38      0.44        87\n",
            "\n",
            "    accuracy                           0.72       300\n",
            "   macro avg       0.65      0.62      0.63       300\n",
            "weighted avg       0.70      0.72      0.71       300\n",
            "\n"
          ]
        }
      ]
    },
    {
      "cell_type": "markdown",
      "source": [
        "### Выводы по базовой модели"
      ],
      "metadata": {
        "id": "vxuFxx__rB6G"
      }
    },
    {
      "cell_type": "markdown",
      "source": [
        "Из базовых алгоритмов лучше всех себя показало дерево решений, слегка не дотянув до целевой метрике. Попробую применить более продвинутые алгоритмы"
      ],
      "metadata": {
        "id": "8xDW4D9HquzQ"
      }
    },
    {
      "cell_type": "markdown",
      "source": [
        "## Применение продвинутых бустингов"
      ],
      "metadata": {
        "id": "tuwMsEVvWV0S"
      }
    },
    {
      "cell_type": "markdown",
      "source": [
        "### XGBoost:"
      ],
      "metadata": {
        "id": "wDsrvPqYpVG2"
      }
    },
    {
      "cell_type": "code",
      "source": [
        "D_train = xgb.DMatrix(X_train, label=y_train)\n",
        "D_test = xgb.DMatrix(X_test, label=y_test)"
      ],
      "metadata": {
        "id": "AQ2p7ZDAZPzO"
      },
      "execution_count": null,
      "outputs": []
    },
    {
      "cell_type": "code",
      "source": [
        "ratio = float(np.sum(y_train == 0)) / np.sum(y_train == 1)"
      ],
      "metadata": {
        "id": "SW6GzmX3eZ_C"
      },
      "execution_count": null,
      "outputs": []
    },
    {
      "cell_type": "code",
      "source": [
        "param = {\n",
        "    'eta': 0.3, \n",
        "    'max_depth': 3,  \n",
        "    'objective': 'multi:softprob',  \n",
        "    'num_class': 3,\n",
        "    'scale_pos_weight' : ratio} \n",
        "\n",
        "steps = 20"
      ],
      "metadata": {
        "id": "Vs8BtnggZedl"
      },
      "execution_count": null,
      "outputs": []
    },
    {
      "cell_type": "code",
      "source": [
        "model_xgb = xgb.train(param, D_train, steps)"
      ],
      "metadata": {
        "id": "VyFdjuehZk2s"
      },
      "execution_count": null,
      "outputs": []
    },
    {
      "cell_type": "code",
      "source": [
        "preds = model_xgb.predict(D_test)\n",
        "y_test_pred = np.asarray([np.argmax(line) for line in preds])"
      ],
      "metadata": {
        "id": "s92y4NsEZ6fk"
      },
      "execution_count": null,
      "outputs": []
    },
    {
      "cell_type": "code",
      "source": [
        "print(metrics.classification_report(y_test, y_test_pred))"
      ],
      "metadata": {
        "colab": {
          "base_uri": "https://localhost:8080/"
        },
        "id": "w-plSiVFaCWL",
        "outputId": "26a19ed5-785a-44c5-c41f-62da9fa4266a"
      },
      "execution_count": null,
      "outputs": [
        {
          "output_type": "stream",
          "name": "stdout",
          "text": [
            "              precision    recall  f1-score   support\n",
            "\n",
            "           0       0.76      0.90      0.82       213\n",
            "           1       0.55      0.30      0.39        87\n",
            "\n",
            "    accuracy                           0.73       300\n",
            "   macro avg       0.66      0.60      0.61       300\n",
            "weighted avg       0.70      0.73      0.70       300\n",
            "\n"
          ]
        }
      ]
    },
    {
      "cell_type": "markdown",
      "source": [
        "С минимальной настройкой алгоритма результат по качеству прогноза для главного класса совсем не впечатляет "
      ],
      "metadata": {
        "id": "foXDrJSWrghv"
      }
    },
    {
      "cell_type": "markdown",
      "source": [
        "### CatBoost:"
      ],
      "metadata": {
        "id": "ZjZNg2ocVEa_"
      }
    },
    {
      "cell_type": "markdown",
      "source": [
        "**Обучение алгоритма**"
      ],
      "metadata": {
        "id": "isVzLhzKVlDM"
      }
    },
    {
      "cell_type": "code",
      "metadata": {
        "id": "ak_9LGRC-g0g"
      },
      "source": [
        "model_catb = catb.CatBoostClassifier(class_weights=[0.71, 1.67], silent=True, random_state=21)\n",
        "model_catb.fit(X_train, y_train)\n",
        "\n",
        "y_train_pred = model_catb.predict(X_train)\n",
        "y_test_pred = model_catb.predict(X_test)"
      ],
      "execution_count": null,
      "outputs": []
    },
    {
      "cell_type": "code",
      "metadata": {
        "colab": {
          "base_uri": "https://localhost:8080/"
        },
        "id": "18IsdIjYLd6J",
        "outputId": "37ba9b09-1a5a-4f8e-81f8-3506cb9ff996"
      },
      "source": [
        "print(metrics.classification_report(y_test, y_test_pred))"
      ],
      "execution_count": null,
      "outputs": [
        {
          "output_type": "stream",
          "name": "stdout",
          "text": [
            "              precision    recall  f1-score   support\n",
            "\n",
            "           0       0.85      0.77      0.81       213\n",
            "           1       0.54      0.67      0.60        87\n",
            "\n",
            "    accuracy                           0.74       300\n",
            "   macro avg       0.70      0.72      0.70       300\n",
            "weighted avg       0.76      0.74      0.75       300\n",
            "\n"
          ]
        }
      ]
    },
    {
      "cell_type": "markdown",
      "source": [
        "Результат гораздо лучше и по сути уже позволяет считать задачу выполненной. Но постараемся дополнительно настроить нашу модель"
      ],
      "metadata": {
        "id": "unMP7x1zr45_"
      }
    },
    {
      "cell_type": "code",
      "metadata": {
        "colab": {
          "base_uri": "https://localhost:8080/"
        },
        "id": "JAttahshOqw0",
        "outputId": "cfa9312b-0188-4bae-d435-b3dbc50ba81b"
      },
      "source": [
        "model_catb.get_all_params()"
      ],
      "execution_count": null,
      "outputs": [
        {
          "output_type": "execute_result",
          "data": {
            "text/plain": [
              "{'auto_class_weights': 'None',\n",
              " 'bayesian_matrix_reg': 0.10000000149011612,\n",
              " 'best_model_min_trees': 1,\n",
              " 'boost_from_average': False,\n",
              " 'boosting_type': 'Plain',\n",
              " 'bootstrap_type': 'MVS',\n",
              " 'border_count': 254,\n",
              " 'class_names': [0, 1],\n",
              " 'class_weights': [0.7099999785423279, 1.6699999570846558],\n",
              " 'classes_count': 0,\n",
              " 'depth': 6,\n",
              " 'eval_metric': 'Logloss',\n",
              " 'feature_border_type': 'GreedyLogSum',\n",
              " 'force_unit_auto_pair_weights': False,\n",
              " 'grow_policy': 'SymmetricTree',\n",
              " 'iterations': 1000,\n",
              " 'l2_leaf_reg': 3,\n",
              " 'leaf_estimation_backtracking': 'AnyImprovement',\n",
              " 'leaf_estimation_iterations': 10,\n",
              " 'leaf_estimation_method': 'Newton',\n",
              " 'learning_rate': 0.008847000077366829,\n",
              " 'loss_function': 'Logloss',\n",
              " 'max_leaves': 64,\n",
              " 'min_data_in_leaf': 1,\n",
              " 'model_shrink_mode': 'Constant',\n",
              " 'model_shrink_rate': 0,\n",
              " 'model_size_reg': 0.5,\n",
              " 'nan_mode': 'Min',\n",
              " 'penalties_coefficient': 1,\n",
              " 'pool_metainfo_options': {'tags': {}},\n",
              " 'posterior_sampling': False,\n",
              " 'random_seed': 21,\n",
              " 'random_strength': 1,\n",
              " 'rsm': 1,\n",
              " 'sampling_frequency': 'PerTree',\n",
              " 'score_function': 'Cosine',\n",
              " 'sparse_features_conflict_fraction': 0,\n",
              " 'subsample': 0.800000011920929,\n",
              " 'task_type': 'CPU',\n",
              " 'use_best_model': False}"
            ]
          },
          "metadata": {},
          "execution_count": 122
        }
      ]
    },
    {
      "cell_type": "markdown",
      "metadata": {
        "id": "AgNbGrF_-g0g"
      },
      "source": [
        "#### Подбор гиперпараметров"
      ]
    },
    {
      "cell_type": "markdown",
      "metadata": {
        "id": "GQ7B3WP5Qixe"
      },
      "source": [
        "Поиск по сетке, чтобы найти оптимальные параметры"
      ]
    },
    {
      "cell_type": "code",
      "metadata": {
        "id": "b30ag535GNDr"
      },
      "source": [
        "params = {'depth': [5, 6, 7], # 6\n",
        "          'learning_rate': [0.01, 0.0088, 0.007], # 0.0088\n",
        "          'iterations': [500, 1000, 1500]} # 1000"
      ],
      "execution_count": null,
      "outputs": []
    },
    {
      "cell_type": "code",
      "metadata": {
        "id": "ysvZ79jCrIKf"
      },
      "source": [
        "cb = catb.CatBoostClassifier(class_weights=[0.71, 1.67], random_state=21)\n",
        "cb_model = GridSearchCV(cb, params, scoring=\"roc_auc\", cv=3)"
      ],
      "execution_count": null,
      "outputs": []
    },
    {
      "cell_type": "code",
      "metadata": {
        "id": "qE63ZP5pIlYV"
      },
      "source": [
        "cb_model.fit(X_train, y_train)"
      ],
      "execution_count": null,
      "outputs": []
    },
    {
      "cell_type": "code",
      "metadata": {
        "colab": {
          "base_uri": "https://localhost:8080/"
        },
        "id": "oPzBcPn5IpsK",
        "outputId": "7fcf192d-c248-475e-9f3f-e33604567005"
      },
      "source": [
        "# Посмотреть лучший результат\n",
        "print(cb_model.best_score_)"
      ],
      "execution_count": null,
      "outputs": [
        {
          "output_type": "stream",
          "name": "stdout",
          "text": [
            "0.7652447035973827\n"
          ]
        }
      ]
    },
    {
      "cell_type": "code",
      "metadata": {
        "colab": {
          "base_uri": "https://localhost:8080/"
        },
        "id": "L1_0_qOsIrxU",
        "outputId": "ddb21c99-a39a-4aaa-8971-54256288e484"
      },
      "source": [
        "# Просмотр лучших параметров\n",
        "print(cb_model.best_params_)"
      ],
      "execution_count": null,
      "outputs": [
        {
          "output_type": "stream",
          "name": "stdout",
          "text": [
            "{'depth': 6, 'iterations': 500, 'learning_rate': 0.01}\n"
          ]
        }
      ]
    },
    {
      "cell_type": "markdown",
      "metadata": {
        "id": "792OVOrnM1-7"
      },
      "source": [
        "Примеяем полученные параметры"
      ]
    },
    {
      "cell_type": "code",
      "metadata": {
        "id": "-Yd2tSZ-MuBn"
      },
      "source": [
        "model_catb = catb.CatBoostClassifier(class_weights=[0.71, 1.67], silent=True, random_state=21, depth=6, iterations=500, learning_rate=0.01)\n",
        "model_catb.fit(X_train, y_train)\n",
        "\n",
        "y_train_pred = model_catb.predict(X_train)\n",
        "y_test_pred = model_catb.predict(X_test)\n",
        "y_test_pred_probs = model_catb.predict_proba(X_test)"
      ],
      "execution_count": null,
      "outputs": []
    },
    {
      "cell_type": "code",
      "metadata": {
        "colab": {
          "base_uri": "https://localhost:8080/"
        },
        "id": "brzgIte1NMvT",
        "outputId": "0fe51eea-4be5-424c-9368-151090f0d341"
      },
      "source": [
        "print(metrics.classification_report(y_test, y_test_pred))"
      ],
      "execution_count": null,
      "outputs": [
        {
          "output_type": "stream",
          "name": "stdout",
          "text": [
            "              precision    recall  f1-score   support\n",
            "\n",
            "           0       0.87      0.77      0.82       213\n",
            "           1       0.56      0.71      0.63        87\n",
            "\n",
            "    accuracy                           0.75       300\n",
            "   macro avg       0.71      0.74      0.72       300\n",
            "weighted avg       0.78      0.75      0.76       300\n",
            "\n"
          ]
        }
      ]
    },
    {
      "cell_type": "markdown",
      "metadata": {
        "id": "HqdpZMd_-g0g"
      },
      "source": [
        "#### Важность признаков"
      ]
    },
    {
      "cell_type": "code",
      "metadata": {
        "id": "Cu5YnsPl-g0g",
        "colab": {
          "base_uri": "https://localhost:8080/",
          "height": 544
        },
        "outputId": "a68cfff1-af1d-460b-e69d-7c6f3f8728a4"
      },
      "source": [
        "show_feature_importances(X.columns, model_catb.feature_importances_)"
      ],
      "execution_count": null,
      "outputs": [
        {
          "output_type": "stream",
          "name": "stderr",
          "text": [
            "/usr/local/lib/python3.7/dist-packages/seaborn/_decorators.py:43: FutureWarning: Pass the following variables as keyword args: x, y. From version 0.12, the only valid positional argument will be `data`, and passing other arguments without an explicit keyword will result in an error or misinterpretation.\n",
            "  FutureWarning\n"
          ]
        },
        {
          "output_type": "display_data",
          "data": {
            "image/png": "[encoded data removed]",
            "text/plain": [
              "<Figure size 1440x536.76 with 1 Axes>"
            ]
          },
          "metadata": {}
        }
      ]
    },
    {
      "cell_type": "markdown",
      "metadata": {
        "id": "LF9VdO19-g0g"
      },
      "source": [
        "#### Выбор порога вероятности для определения класса"
      ]
    },
    {
      "cell_type": "code",
      "metadata": {
        "id": "tJV-1kHJ-g0g",
        "colab": {
          "base_uri": "https://localhost:8080/",
          "height": 727
        },
        "outputId": "6fcc84db-0d65-4e0f-de9d-0b0ac2a35140"
      },
      "source": [
        "show_proba_calibration_plots(y_test_pred_probs[:, 1], y_test)"
      ],
      "execution_count": null,
      "outputs": [
        {
          "output_type": "stream",
          "name": "stderr",
          "text": [
            "/usr/local/lib/python3.7/dist-packages/sklearn/metrics/_classification.py:1318: UndefinedMetricWarning: Precision is ill-defined and being set to 0.0 due to no predicted samples. Use `zero_division` parameter to control this behavior.\n",
            "  _warn_prf(average, modifier, msg_start, len(result))\n"
          ]
        },
        {
          "output_type": "display_data",
          "data": {
            "image/png": "[encoded data removed]",
            "text/plain": [
              "<Figure size 1080x360 with 2 Axes>"
            ]
          },
          "metadata": {}
        }
      ]
    },
    {
      "cell_type": "markdown",
      "metadata": {
        "id": "kTjlWgglFjzY"
      },
      "source": [
        "Общая точка находится в диапазоне от 0.5 до 0.6"
      ]
    },
    {
      "cell_type": "markdown",
      "metadata": {
        "id": "73myb__z-g0h"
      },
      "source": [
        "## Обучение финальной модели и оценка результатов"
      ]
    },
    {
      "cell_type": "markdown",
      "source": [
        "В качестве финальной модели однозначно останавливаемся на CatBoost, даже с базовыми гиперпараметрами эта модель показала лучшие результаты"
      ],
      "metadata": {
        "id": "LV8dTmaMg1rI"
      }
    },
    {
      "cell_type": "code",
      "metadata": {
        "id": "MSmJ_oXh-g0h"
      },
      "source": [
        "final_model = catb.CatBoostClassifier(class_weights=[0.71, 1.67], silent=True, random_state=21, depth=6, iterations=500, learning_rate=0.01)\n",
        "final_model.fit(X_train, y_train)\n",
        "\n",
        "y_pred = final_model.predict(X_test)\n",
        "y_pred_probs = final_model.predict_proba(X_test)"
      ],
      "execution_count": null,
      "outputs": []
    },
    {
      "cell_type": "markdown",
      "metadata": {
        "id": "STVtc6Hu-g0h"
      },
      "source": [
        "*Оцениваем полученные результаты*"
      ]
    },
    {
      "cell_type": "code",
      "metadata": {
        "id": "KFnISD9z-g0h",
        "colab": {
          "base_uri": "https://localhost:8080/"
        },
        "outputId": "182baa7b-b551-4424-efad-e8d964094821"
      },
      "source": [
        "print(metrics.classification_report(y_test, y_pred))"
      ],
      "execution_count": null,
      "outputs": [
        {
          "output_type": "stream",
          "name": "stdout",
          "text": [
            "              precision    recall  f1-score   support\n",
            "\n",
            "           0       0.87      0.77      0.82       213\n",
            "           1       0.56      0.71      0.63        87\n",
            "\n",
            "    accuracy                           0.75       300\n",
            "   macro avg       0.71      0.74      0.72       300\n",
            "weighted avg       0.78      0.75      0.76       300\n",
            "\n"
          ]
        }
      ]
    },
    {
      "cell_type": "markdown",
      "source": [
        "Вывод: Задание выполнено"
      ],
      "metadata": {
        "id": "VOxbPTDZnUum"
      }
    }
  ]
}